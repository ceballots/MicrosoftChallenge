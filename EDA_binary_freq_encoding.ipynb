{
 "cells": [
  {
   "cell_type": "code",
   "execution_count": 1,
   "metadata": {},
   "outputs": [],
   "source": [
    "import numpy as np \n",
    "import pandas as pd \n",
    "from datetime import datetime as dt\n",
    "import os\n",
    "import seaborn as sns \n",
    "import matplotlib.pyplot as plt\n",
    "%matplotlib inline\n",
    "plt.style.use('ggplot')\n",
    "import lightgbm as lgb\n",
    "import time\n",
    "import datetime\n",
    "from tqdm import tqdm_notebook as tqdm\n",
    "from sklearn.preprocessing import LabelEncoder\n",
    "from sklearn.model_selection import StratifiedKFold, KFold, TimeSeriesSplit\n",
    "from sklearn.metrics import mean_squared_error, roc_auc_score,accuracy_score\n",
    "from sklearn import metrics\n",
    "import gc\n",
    "import dask.dataframe as dd\n",
    "import dask\n",
    "import timeit\n",
    "from sklearn.linear_model import LogisticRegression\n",
    "\n",
    "import matplotlib.pyplot as plt\n",
    "import seaborn as sn\n",
    "#plt.style.use('ggplot')"
   ]
  },
  {
   "cell_type": "markdown",
   "metadata": {},
   "source": [
    "# This notebook contains EDA to support the binary and frequency encoding"
   ]
  },
  {
   "cell_type": "code",
   "execution_count": 2,
   "metadata": {},
   "outputs": [],
   "source": [
    "dtypes = {\n",
    "    'MachineIdentifier':                                    'object',\n",
    "    'ProductName':                                          'object',\n",
    "    'EngineVersion':                                        'object',\n",
    "    'AppVersion':                                           'object',\n",
    "    'AvSigVersion':                                         'object',\n",
    "    'IsBeta':                                               'int8',\n",
    "    'RtpStateBitfield':                                     'float16',\n",
    "    'IsSxsPassiveMode':                                     'int8',\n",
    "    'DefaultBrowsersIdentifier':                            'float32',  # was 'float16'\n",
    "    'AVProductStatesIdentifier':                            'float32',\n",
    "    'AVProductsInstalled':                                  'float16',\n",
    "    'AVProductsEnabled':                                    'float16',\n",
    "    'HasTpm':                                               'int8',\n",
    "    'CountryIdentifier':                                    'int16',\n",
    "    'CityIdentifier':                                       'float32',\n",
    "    'OrganizationIdentifier':                               'float16',\n",
    "    'GeoNameIdentifier':                                    'float16',\n",
    "    'LocaleEnglishNameIdentifier':                          'int16',  # was 'int8'\n",
    "    'Platform':                                             'object',\n",
    "    'Processor':                                            'object',\n",
    "    'OsVer':                                                'object',\n",
    "    'OsBuild':                                              'int16',\n",
    "    'OsSuite':                                              'int16',\n",
    "    'OsPlatformSubRelease':                                 'object',\n",
    "    'OsBuildLab':                                           'object',\n",
    "    'SkuEdition':                                           'object',\n",
    "    'IsProtected':                                          'float16',\n",
    "    'AutoSampleOptIn':                                      'int8',\n",
    "    'PuaMode':                                              'object',\n",
    "    'SMode':                                                'float16',\n",
    "    'IeVerIdentifier':                                      'float16',\n",
    "    'SmartScreen':                                          'object',\n",
    "    'Firewall':                                             'float16',\n",
    "    'UacLuaenable':                                         'float64', # was 'float32'\n",
    "    'Census_MDC2FormFactor':                                'object',\n",
    "    'Census_DeviceFamily':                                  'object',\n",
    "    'Census_OEMNameIdentifier':                             'float32', # was 'float16'\n",
    "    'Census_OEMModelIdentifier':                            'float32',\n",
    "    'Census_ProcessorCoreCount':                            'float16',\n",
    "    'Census_ProcessorManufacturerIdentifier':               'float16',\n",
    "    'Census_ProcessorModelIdentifier':                      'float32', # was 'float16'\n",
    "    'Census_ProcessorClass':                                'object',\n",
    "    'Census_PrimaryDiskTotalCapacity':                      'float64', # was 'float32'\n",
    "    'Census_PrimaryDiskTypeName':                           'object',\n",
    "    'Census_SystemVolumeTotalCapacity':                     'float64', # was 'float32'\n",
    "    'Census_HasOpticalDiskDrive':                           'int8',\n",
    "    'Census_TotalPhysicalRAM':                              'float32',\n",
    "    'Census_ChassisTypeName':                               'object',\n",
    "    'Census_InternalPrimaryDiagonalDisplaySizeInInches':    'float32', # was 'float16'\n",
    "    'Census_InternalPrimaryDisplayResolutionHorizontal':    'float32', # was 'float16'\n",
    "    'Census_InternalPrimaryDisplayResolutionVertical':      'float32', # was 'float16'\n",
    "    'Census_PowerPlatformRoleName':                         'object',\n",
    "    'Census_InternalBatteryType':                           'object',\n",
    "    'Census_InternalBatteryNumberOfCharges':                'float64', # was 'float32'\n",
    "    'Census_OSVersion':                                     'object',\n",
    "    'Census_OSArchitecture':                                'object',\n",
    "    'Census_OSBranch':                                      'object',\n",
    "    'Census_OSBuildNumber':                                 'int16',\n",
    "    'Census_OSBuildRevision':                               'int32',\n",
    "    'Census_OSEdition':                                     'object',\n",
    "    'Census_OSSkuName':                                     'object',\n",
    "    'Census_OSInstallTypeName':                             'object',\n",
    "    'Census_OSInstallLanguageIdentifier':                   'float16',\n",
    "    'Census_OSUILocaleIdentifier':                          'int16',\n",
    "    'Census_OSWUAutoUpdateOptionsName':                     'object',\n",
    "    'Census_IsPortableOperatingSystem':                     'int8',\n",
    "    'Census_GenuineStateName':                              'object',\n",
    "    'Census_ActivationChannel':                             'object',\n",
    "    'Census_IsFlightingInternal':                           'float16',\n",
    "    'Census_IsFlightsDisabled':                             'float16',\n",
    "    'Census_FlightRing':                                    'object',\n",
    "    'Census_ThresholdOptIn':                                'float16',\n",
    "    'Census_FirmwareManufacturerIdentifier':                'float16',\n",
    "    'Census_FirmwareVersionIdentifier':                     'float32',\n",
    "    'Census_IsSecureBootEnabled':                           'int8',\n",
    "    'Census_IsWIMBootEnabled':                              'float16',\n",
    "    'Census_IsVirtualDevice':                               'float16',\n",
    "    'Census_IsTouchEnabled':                                'int8',\n",
    "    'Census_IsPenCapable':                                  'int8',\n",
    "    'Census_IsAlwaysOnAlwaysConnectedCapable':              'float16',\n",
    "    'Wdft_IsGamer':                                         'float16',\n",
    "    'Wdft_RegionIdentifier':                                'float16',\n",
    "    'HasDetections':                                        'float32',\n",
    "}\n",
    "\n"
   ]
  },
  {
   "cell_type": "code",
   "execution_count": 3,
   "metadata": {},
   "outputs": [
    {
     "name": "stdout",
     "output_type": "stream",
     "text": [
      "Wall time: 43 s\n"
     ]
    }
   ],
   "source": [
    "%%time\n",
    "df_train = dd.read_csv(\"train.csv\", blocksize= 256e6, dtype = dtypes)\n",
    "gc.collect()\n",
    "df_train = df_train.compute()\n",
    "df_train.drop(['index','Date','YearMonth'],axis=1,inplace=True) "
   ]
  },
  {
   "cell_type": "code",
   "execution_count": 97,
   "metadata": {},
   "outputs": [],
   "source": [
    "def encode_categorical(x_train, x_test, columns, sort=True):\n",
    "    \"\"\"\n",
    "    \"\"\"\n",
    "    train_length = x_train.shape[0]\n",
    "    for col in tqdm(columns):\n",
    "        if col != 'MachineIdentifier' and col != 'HasDetections':\n",
    "            combined_data = pd.concat([x_train[col], x_test[col]])\n",
    "            combined_data, _ = pd.factorize(combined_data, sort=sort)\n",
    "            combined_data = pd.Series(combined_data).astype('int32')\n",
    "            x_train[col] = combined_data.iloc[:train_length].values\n",
    "            x_test[col] = combined_data.iloc[train_length:].values\n",
    "            x_train[col] = x_train[col].fillna(0)\n",
    "            x_test[col] = x_test[col].fillna(0)\n",
    "            del combined_data\n",
    "\n",
    "    return x_train, x_test"
   ]
  },
  {
   "cell_type": "code",
   "execution_count": 100,
   "metadata": {},
   "outputs": [
    {
     "data": {
      "application/vnd.jupyter.widget-view+json": {
       "model_id": "d51c2b60ed3e453e8947a1271454e6b0",
       "version_major": 2,
       "version_minor": 0
      },
      "text/plain": [
       "HBox(children=(IntProgress(value=0, max=30), HTML(value='')))"
      ]
     },
     "metadata": {},
     "output_type": "display_data"
    },
    {
     "name": "stdout",
     "output_type": "stream",
     "text": [
      "\n"
     ]
    }
   ],
   "source": [
    "g = df_train.columns.to_series().groupby(df_train.dtypes).groups\n",
    "types_ = {k.name: v for k, v in g.items()}\n",
    "object_columns = types_['object']\n",
    "\n",
    "df_train, df_test = encode_categorical(df_train, df_train, object_columns)"
   ]
  },
  {
   "cell_type": "markdown",
   "metadata": {},
   "source": [
    "## Binary plot"
   ]
  },
  {
   "cell_type": "code",
   "execution_count": 6,
   "metadata": {},
   "outputs": [],
   "source": [
    "di = {\"Off\": \"off\", \"On\": \"on\",\"&#x01;\":\"1\",\"requireadmin\":\"RequireAdmin\",\"prompt\":\"Prompt\",\"&#x02;\":\"2\"}"
   ]
  },
  {
   "cell_type": "code",
   "execution_count": 7,
   "metadata": {},
   "outputs": [],
   "source": [
    "df_train = df_train.replace({\"SmartScreen\": di})"
   ]
  },
  {
   "cell_type": "code",
   "execution_count": 8,
   "metadata": {},
   "outputs": [],
   "source": [
    "freq_ = df_train['SmartScreen'].value_counts()\n",
    "freq_ = freq_.to_dict()"
   ]
  },
  {
   "cell_type": "code",
   "execution_count": 9,
   "metadata": {},
   "outputs": [],
   "source": [
    "groupby_ = pd.DataFrame({'count' : df_train.groupby( [ \"SmartScreen\", \"HasDetections\"] ).size()}).reset_index()"
   ]
  },
  {
   "cell_type": "code",
   "execution_count": 10,
   "metadata": {},
   "outputs": [
    {
     "data": {
      "text/html": [
       "<div>\n",
       "<style scoped>\n",
       "    .dataframe tbody tr th:only-of-type {\n",
       "        vertical-align: middle;\n",
       "    }\n",
       "\n",
       "    .dataframe tbody tr th {\n",
       "        vertical-align: top;\n",
       "    }\n",
       "\n",
       "    .dataframe thead th {\n",
       "        text-align: right;\n",
       "    }\n",
       "</style>\n",
       "<table border=\"1\" class=\"dataframe\">\n",
       "  <thead>\n",
       "    <tr style=\"text-align: right;\">\n",
       "      <th></th>\n",
       "      <th>SmartScreen</th>\n",
       "      <th>HasDetections</th>\n",
       "      <th>count</th>\n",
       "    </tr>\n",
       "  </thead>\n",
       "  <tbody>\n",
       "    <tr>\n",
       "      <th>0</th>\n",
       "      <td>0</td>\n",
       "      <td>1.0</td>\n",
       "      <td>1</td>\n",
       "    </tr>\n",
       "    <tr>\n",
       "      <th>1</th>\n",
       "      <td>1</td>\n",
       "      <td>0.0</td>\n",
       "      <td>44</td>\n",
       "    </tr>\n",
       "    <tr>\n",
       "      <th>2</th>\n",
       "      <td>1</td>\n",
       "      <td>1.0</td>\n",
       "      <td>47</td>\n",
       "    </tr>\n",
       "    <tr>\n",
       "      <th>3</th>\n",
       "      <td>2</td>\n",
       "      <td>0.0</td>\n",
       "      <td>33</td>\n",
       "    </tr>\n",
       "    <tr>\n",
       "      <th>4</th>\n",
       "      <td>2</td>\n",
       "      <td>1.0</td>\n",
       "      <td>63</td>\n",
       "    </tr>\n",
       "    <tr>\n",
       "      <th>5</th>\n",
       "      <td>Block</td>\n",
       "      <td>0.0</td>\n",
       "      <td>2551</td>\n",
       "    </tr>\n",
       "    <tr>\n",
       "      <th>6</th>\n",
       "      <td>Block</td>\n",
       "      <td>1.0</td>\n",
       "      <td>2884</td>\n",
       "    </tr>\n",
       "    <tr>\n",
       "      <th>7</th>\n",
       "      <td>ExistsNotSet</td>\n",
       "      <td>0.0</td>\n",
       "      <td>55336</td>\n",
       "    </tr>\n",
       "    <tr>\n",
       "      <th>8</th>\n",
       "      <td>ExistsNotSet</td>\n",
       "      <td>1.0</td>\n",
       "      <td>238922</td>\n",
       "    </tr>\n",
       "    <tr>\n",
       "      <th>9</th>\n",
       "      <td>Prompt</td>\n",
       "      <td>0.0</td>\n",
       "      <td>4342</td>\n",
       "    </tr>\n",
       "    <tr>\n",
       "      <th>10</th>\n",
       "      <td>Prompt</td>\n",
       "      <td>1.0</td>\n",
       "      <td>4235</td>\n",
       "    </tr>\n",
       "    <tr>\n",
       "      <th>11</th>\n",
       "      <td>RequireAdmin</td>\n",
       "      <td>0.0</td>\n",
       "      <td>611396</td>\n",
       "    </tr>\n",
       "    <tr>\n",
       "      <th>12</th>\n",
       "      <td>RequireAdmin</td>\n",
       "      <td>1.0</td>\n",
       "      <td>495153</td>\n",
       "    </tr>\n",
       "    <tr>\n",
       "      <th>13</th>\n",
       "      <td>Warn</td>\n",
       "      <td>0.0</td>\n",
       "      <td>13395</td>\n",
       "    </tr>\n",
       "    <tr>\n",
       "      <th>14</th>\n",
       "      <td>Warn</td>\n",
       "      <td>1.0</td>\n",
       "      <td>19506</td>\n",
       "    </tr>\n",
       "    <tr>\n",
       "      <th>15</th>\n",
       "      <td>off</td>\n",
       "      <td>0.0</td>\n",
       "      <td>22953</td>\n",
       "    </tr>\n",
       "    <tr>\n",
       "      <th>16</th>\n",
       "      <td>off</td>\n",
       "      <td>1.0</td>\n",
       "      <td>22708</td>\n",
       "    </tr>\n",
       "    <tr>\n",
       "      <th>17</th>\n",
       "      <td>on</td>\n",
       "      <td>0.0</td>\n",
       "      <td>98</td>\n",
       "    </tr>\n",
       "    <tr>\n",
       "      <th>18</th>\n",
       "      <td>on</td>\n",
       "      <td>1.0</td>\n",
       "      <td>98</td>\n",
       "    </tr>\n",
       "  </tbody>\n",
       "</table>\n",
       "</div>"
      ],
      "text/plain": [
       "     SmartScreen  HasDetections   count\n",
       "0              0            1.0       1\n",
       "1              1            0.0      44\n",
       "2              1            1.0      47\n",
       "3              2            0.0      33\n",
       "4              2            1.0      63\n",
       "5          Block            0.0    2551\n",
       "6          Block            1.0    2884\n",
       "7   ExistsNotSet            0.0   55336\n",
       "8   ExistsNotSet            1.0  238922\n",
       "9         Prompt            0.0    4342\n",
       "10        Prompt            1.0    4235\n",
       "11  RequireAdmin            0.0  611396\n",
       "12  RequireAdmin            1.0  495153\n",
       "13          Warn            0.0   13395\n",
       "14          Warn            1.0   19506\n",
       "15           off            0.0   22953\n",
       "16           off            1.0   22708\n",
       "17            on            0.0      98\n",
       "18            on            1.0      98"
      ]
     },
     "execution_count": 10,
     "metadata": {},
     "output_type": "execute_result"
    }
   ],
   "source": [
    "groupby_"
   ]
  },
  {
   "cell_type": "code",
   "execution_count": 11,
   "metadata": {},
   "outputs": [],
   "source": [
    "groupby_ = groupby_[groupby_.SmartScreen != '0']\n"
   ]
  },
  {
   "cell_type": "code",
   "execution_count": 12,
   "metadata": {},
   "outputs": [],
   "source": [
    "sum_ = np.asanyarray(groupby_['count'])"
   ]
  },
  {
   "cell_type": "code",
   "execution_count": 16,
   "metadata": {},
   "outputs": [],
   "source": [
    "sum_.sum()\n",
    "keep = ['ExistsNotSet','RequireAdmin','Warn','off','Prompt']"
   ]
  },
  {
   "cell_type": "code",
   "execution_count": 17,
   "metadata": {},
   "outputs": [],
   "source": [
    "df = groupby_.loc[:, groupby_.columns.str.contains('|'.join(keep))]"
   ]
  },
  {
   "cell_type": "code",
   "execution_count": 18,
   "metadata": {},
   "outputs": [],
   "source": [
    "filtered = groupby_[groupby_['SmartScreen'].isin(keep)]"
   ]
  },
  {
   "cell_type": "code",
   "execution_count": 19,
   "metadata": {},
   "outputs": [],
   "source": [
    "filtered_sum_ = np.asanyarray(filtered['count'])"
   ]
  },
  {
   "cell_type": "code",
   "execution_count": 20,
   "metadata": {},
   "outputs": [
    {
     "data": {
      "text/plain": [
       "1487946"
      ]
     },
     "execution_count": 20,
     "metadata": {},
     "output_type": "execute_result"
    }
   ],
   "source": [
    "filtered_sum_.sum()"
   ]
  },
  {
   "cell_type": "code",
   "execution_count": 21,
   "metadata": {},
   "outputs": [
    {
     "data": {
      "text/plain": [
       "0.9961051411066273"
      ]
     },
     "execution_count": 21,
     "metadata": {},
     "output_type": "execute_result"
    }
   ],
   "source": [
    "1487946/1493764"
   ]
  },
  {
   "cell_type": "code",
   "execution_count": 22,
   "metadata": {},
   "outputs": [
    {
     "name": "stdout",
     "output_type": "stream",
     "text": [
      "1\n",
      "2\n",
      "Block\n",
      "ExistsNotSet\n",
      "Prompt\n",
      "RequireAdmin\n",
      "Warn\n",
      "off\n"
     ]
    }
   ],
   "source": [
    "dict_ = {}\n",
    "for i in range(1,len(groupby_),2):\n",
    "\n",
    "    if i == len(groupby_)-1:\n",
    "        break\n",
    "    total_ = groupby_.loc[i]['count'] + groupby_.loc[i+1]['count']\n",
    "    dict_[groupby_['SmartScreen'][i]] = groupby_.loc[i+1]['count']/total_\n",
    "    print(groupby_['SmartScreen'][i])\n",
    "    i = i + 2"
   ]
  },
  {
   "cell_type": "code",
   "execution_count": 23,
   "metadata": {},
   "outputs": [
    {
     "data": {
      "text/plain": [
       "{'1': 0.5164835164835165,\n",
       " '2': 0.65625,\n",
       " 'Block': 0.5306347746090156,\n",
       " 'ExistsNotSet': 0.8119473387299581,\n",
       " 'Prompt': 0.4937623877812755,\n",
       " 'RequireAdmin': 0.44747498755138726,\n",
       " 'Warn': 0.5928695176438407,\n",
       " 'off': 0.4973171853441668}"
      ]
     },
     "execution_count": 23,
     "metadata": {},
     "output_type": "execute_result"
    }
   ],
   "source": [
    "dict_"
   ]
  },
  {
   "cell_type": "code",
   "execution_count": null,
   "metadata": {},
   "outputs": [],
   "source": []
  },
  {
   "cell_type": "code",
   "execution_count": 24,
   "metadata": {},
   "outputs": [],
   "source": [
    "dict_ = {i:dict_[i] for i in keep}"
   ]
  },
  {
   "cell_type": "code",
   "execution_count": 25,
   "metadata": {},
   "outputs": [
    {
     "data": {
      "text/plain": [
       "{'ExistsNotSet': 0.8119473387299581,\n",
       " 'RequireAdmin': 0.44747498755138726,\n",
       " 'Warn': 0.5928695176438407,\n",
       " 'off': 0.4973171853441668,\n",
       " 'Prompt': 0.4937623877812755}"
      ]
     },
     "execution_count": 25,
     "metadata": {},
     "output_type": "execute_result"
    }
   ],
   "source": [
    "dict_"
   ]
  },
  {
   "cell_type": "code",
   "execution_count": 26,
   "metadata": {},
   "outputs": [],
   "source": [
    "dict_ = {k: v for k, v in sorted(dict_.items(), key=lambda x: x[1])}"
   ]
  },
  {
   "cell_type": "code",
   "execution_count": 27,
   "metadata": {},
   "outputs": [],
   "source": [
    "dict_ = {k: v for k, v in sorted(dict_.items(), key=lambda x: x[1])}\n",
    "x =list(dict_.keys())\n",
    "y =list(dict_.values())"
   ]
  },
  {
   "cell_type": "code",
   "execution_count": 96,
   "metadata": {},
   "outputs": [
    {
     "name": "stdout",
     "output_type": "stream",
     "text": [
      "Not all values are presented, this represent 96%\n"
     ]
    },
    {
     "data": {
      "image/png": "[encoded data removed]",
      "text/plain": [
       "<Figure size 432x288 with 1 Axes>"
      ]
     },
     "metadata": {},
     "output_type": "display_data"
    }
   ],
   "source": [
    "clrs = ['grey' if (x_ < max(y)) else 'red' for x_ in y ]\n",
    "\n",
    "ax = sns.barplot(x=x, y=y,palette=clrs)\n",
    "ax.set(ylabel='Detection rate')\n",
    "print(\"Not all values are presented, this represent 96%\")"
   ]
  },
  {
   "cell_type": "code",
   "execution_count": 40,
   "metadata": {},
   "outputs": [],
   "source": [
    "c_ = ['CountryIdentifier','Census_OSWUAutoUpdateOptionsName','Census_MDC2FormFactor']"
   ]
  },
  {
   "cell_type": "markdown",
   "metadata": {},
   "source": [
    "## Census_MDC2FormFactor"
   ]
  },
  {
   "cell_type": "code",
   "execution_count": 43,
   "metadata": {},
   "outputs": [
    {
     "data": {
      "text/html": [
       "<div>\n",
       "<style scoped>\n",
       "    .dataframe tbody tr th:only-of-type {\n",
       "        vertical-align: middle;\n",
       "    }\n",
       "\n",
       "    .dataframe tbody tr th {\n",
       "        vertical-align: top;\n",
       "    }\n",
       "\n",
       "    .dataframe thead th {\n",
       "        text-align: right;\n",
       "    }\n",
       "</style>\n",
       "<table border=\"1\" class=\"dataframe\">\n",
       "  <thead>\n",
       "    <tr style=\"text-align: right;\">\n",
       "      <th></th>\n",
       "      <th>Census_MDC2FormFactor</th>\n",
       "      <th>HasDetections</th>\n",
       "      <th>count</th>\n",
       "    </tr>\n",
       "  </thead>\n",
       "  <tbody>\n",
       "    <tr>\n",
       "      <th>0</th>\n",
       "      <td>AllInOne</td>\n",
       "      <td>0.0</td>\n",
       "      <td>34890</td>\n",
       "    </tr>\n",
       "    <tr>\n",
       "      <th>1</th>\n",
       "      <td>AllInOne</td>\n",
       "      <td>1.0</td>\n",
       "      <td>39160</td>\n",
       "    </tr>\n",
       "    <tr>\n",
       "      <th>2</th>\n",
       "      <td>Convertible</td>\n",
       "      <td>0.0</td>\n",
       "      <td>49641</td>\n",
       "    </tr>\n",
       "    <tr>\n",
       "      <th>3</th>\n",
       "      <td>Convertible</td>\n",
       "      <td>1.0</td>\n",
       "      <td>52259</td>\n",
       "    </tr>\n",
       "    <tr>\n",
       "      <th>4</th>\n",
       "      <td>Desktop</td>\n",
       "      <td>0.0</td>\n",
       "      <td>218543</td>\n",
       "    </tr>\n",
       "    <tr>\n",
       "      <th>5</th>\n",
       "      <td>Desktop</td>\n",
       "      <td>1.0</td>\n",
       "      <td>251534</td>\n",
       "    </tr>\n",
       "    <tr>\n",
       "      <th>6</th>\n",
       "      <td>Detachable</td>\n",
       "      <td>0.0</td>\n",
       "      <td>43908</td>\n",
       "    </tr>\n",
       "    <tr>\n",
       "      <th>7</th>\n",
       "      <td>Detachable</td>\n",
       "      <td>1.0</td>\n",
       "      <td>28742</td>\n",
       "    </tr>\n",
       "    <tr>\n",
       "      <th>8</th>\n",
       "      <td>IoTOther</td>\n",
       "      <td>0.0</td>\n",
       "      <td>1</td>\n",
       "    </tr>\n",
       "    <tr>\n",
       "      <th>9</th>\n",
       "      <td>LargeServer</td>\n",
       "      <td>0.0</td>\n",
       "      <td>138</td>\n",
       "    </tr>\n",
       "    <tr>\n",
       "      <th>10</th>\n",
       "      <td>LargeServer</td>\n",
       "      <td>1.0</td>\n",
       "      <td>54</td>\n",
       "    </tr>\n",
       "    <tr>\n",
       "      <th>11</th>\n",
       "      <td>LargeTablet</td>\n",
       "      <td>0.0</td>\n",
       "      <td>11217</td>\n",
       "    </tr>\n",
       "    <tr>\n",
       "      <th>12</th>\n",
       "      <td>LargeTablet</td>\n",
       "      <td>1.0</td>\n",
       "      <td>5513</td>\n",
       "    </tr>\n",
       "    <tr>\n",
       "      <th>13</th>\n",
       "      <td>MediumServer</td>\n",
       "      <td>0.0</td>\n",
       "      <td>561</td>\n",
       "    </tr>\n",
       "    <tr>\n",
       "      <th>14</th>\n",
       "      <td>MediumServer</td>\n",
       "      <td>1.0</td>\n",
       "      <td>239</td>\n",
       "    </tr>\n",
       "    <tr>\n",
       "      <th>15</th>\n",
       "      <td>Notebook</td>\n",
       "      <td>0.0</td>\n",
       "      <td>706926</td>\n",
       "    </tr>\n",
       "    <tr>\n",
       "      <th>16</th>\n",
       "      <td>Notebook</td>\n",
       "      <td>1.0</td>\n",
       "      <td>742642</td>\n",
       "    </tr>\n",
       "    <tr>\n",
       "      <th>17</th>\n",
       "      <td>PCOther</td>\n",
       "      <td>0.0</td>\n",
       "      <td>17634</td>\n",
       "    </tr>\n",
       "    <tr>\n",
       "      <th>18</th>\n",
       "      <td>PCOther</td>\n",
       "      <td>1.0</td>\n",
       "      <td>16982</td>\n",
       "    </tr>\n",
       "    <tr>\n",
       "      <th>19</th>\n",
       "      <td>ServerOther</td>\n",
       "      <td>0.0</td>\n",
       "      <td>3</td>\n",
       "    </tr>\n",
       "    <tr>\n",
       "      <th>20</th>\n",
       "      <td>ServerOther</td>\n",
       "      <td>1.0</td>\n",
       "      <td>2</td>\n",
       "    </tr>\n",
       "    <tr>\n",
       "      <th>21</th>\n",
       "      <td>SmallServer</td>\n",
       "      <td>0.0</td>\n",
       "      <td>1172</td>\n",
       "    </tr>\n",
       "    <tr>\n",
       "      <th>22</th>\n",
       "      <td>SmallServer</td>\n",
       "      <td>1.0</td>\n",
       "      <td>689</td>\n",
       "    </tr>\n",
       "    <tr>\n",
       "      <th>23</th>\n",
       "      <td>SmallTablet</td>\n",
       "      <td>0.0</td>\n",
       "      <td>6477</td>\n",
       "    </tr>\n",
       "    <tr>\n",
       "      <th>24</th>\n",
       "      <td>SmallTablet</td>\n",
       "      <td>1.0</td>\n",
       "      <td>1443</td>\n",
       "    </tr>\n",
       "  </tbody>\n",
       "</table>\n",
       "</div>"
      ],
      "text/plain": [
       "   Census_MDC2FormFactor  HasDetections   count\n",
       "0               AllInOne            0.0   34890\n",
       "1               AllInOne            1.0   39160\n",
       "2            Convertible            0.0   49641\n",
       "3            Convertible            1.0   52259\n",
       "4                Desktop            0.0  218543\n",
       "5                Desktop            1.0  251534\n",
       "6             Detachable            0.0   43908\n",
       "7             Detachable            1.0   28742\n",
       "8               IoTOther            0.0       1\n",
       "9            LargeServer            0.0     138\n",
       "10           LargeServer            1.0      54\n",
       "11           LargeTablet            0.0   11217\n",
       "12           LargeTablet            1.0    5513\n",
       "13          MediumServer            0.0     561\n",
       "14          MediumServer            1.0     239\n",
       "15              Notebook            0.0  706926\n",
       "16              Notebook            1.0  742642\n",
       "17               PCOther            0.0   17634\n",
       "18               PCOther            1.0   16982\n",
       "19           ServerOther            0.0       3\n",
       "20           ServerOther            1.0       2\n",
       "21           SmallServer            0.0    1172\n",
       "22           SmallServer            1.0     689\n",
       "23           SmallTablet            0.0    6477\n",
       "24           SmallTablet            1.0    1443"
      ]
     },
     "execution_count": 43,
     "metadata": {},
     "output_type": "execute_result"
    }
   ],
   "source": [
    "groupby_ = pd.DataFrame({'count' : df_train.groupby( [ 'Census_MDC2FormFactor', \"HasDetections\"] ).size()}).reset_index()\n",
    "groupby_"
   ]
  },
  {
   "cell_type": "code",
   "execution_count": 45,
   "metadata": {},
   "outputs": [
    {
     "name": "stdout",
     "output_type": "stream",
     "text": [
      "AllInOne\n",
      "Convertible\n",
      "Desktop\n",
      "Detachable\n",
      "IoTOther\n",
      "LargeServer\n",
      "LargeTablet\n",
      "MediumServer\n",
      "Notebook\n",
      "PCOther\n",
      "ServerOther\n",
      "SmallServer\n"
     ]
    }
   ],
   "source": [
    "for i in range(0,len(groupby_),2):\n",
    "\n",
    "    if i == len(groupby_)-1:\n",
    "        break\n",
    "    total_ = groupby_.loc[i]['count'] + groupby_.loc[i+1]['count']\n",
    "    dict_[groupby_['Census_MDC2FormFactor'][i]] = groupby_.loc[i+1]['count']/total_\n",
    "    print(groupby_['Census_MDC2FormFactor'][i])\n",
    "    i = i + 2"
   ]
  },
  {
   "cell_type": "code",
   "execution_count": 46,
   "metadata": {},
   "outputs": [],
   "source": [
    "dict_ = {k: v for k, v in sorted(dict_.items(), key=lambda x: x[1])}\n",
    "x =list(dict_.keys())\n",
    "y =list(dict_.values())"
   ]
  },
  {
   "cell_type": "code",
   "execution_count": 56,
   "metadata": {},
   "outputs": [
    {
     "data": {
      "text/plain": [
       "True"
      ]
     },
     "execution_count": 56,
     "metadata": {},
     "output_type": "execute_result"
    }
   ],
   "source": [
    "min(y) >= y[0]"
   ]
  },
  {
   "cell_type": "code",
   "execution_count": 59,
   "metadata": {},
   "outputs": [],
   "source": [
    "y.remove(min(y))"
   ]
  },
  {
   "cell_type": "code",
   "execution_count": 60,
   "metadata": {},
   "outputs": [
    {
     "data": {
      "text/plain": [
       "[Text(0,0.5,'Detection rate')]"
      ]
     },
     "execution_count": 60,
     "metadata": {},
     "output_type": "execute_result"
    },
    {
     "data": {
      "image/png": "[encoded data removed]",
      "text/plain": [
       "<Figure size 432x288 with 1 Axes>"
      ]
     },
     "metadata": {
      "needs_background": "light"
     },
     "output_type": "display_data"
    }
   ],
   "source": [
    "clrs = ['grey' if (x_ >= min(y)) else 'red' for x_ in y ]\n",
    "\n",
    "ax = sns.barplot(x=x[:5], y=y[:5],palette=clrs)\n",
    "ax.set(ylabel='Detection rate')\n"
   ]
  },
  {
   "cell_type": "markdown",
   "metadata": {},
   "source": [
    "## CountryIdentifier"
   ]
  },
  {
   "cell_type": "code",
   "execution_count": 62,
   "metadata": {},
   "outputs": [
    {
     "data": {
      "text/html": [
       "<div>\n",
       "<style scoped>\n",
       "    .dataframe tbody tr th:only-of-type {\n",
       "        vertical-align: middle;\n",
       "    }\n",
       "\n",
       "    .dataframe tbody tr th {\n",
       "        vertical-align: top;\n",
       "    }\n",
       "\n",
       "    .dataframe thead th {\n",
       "        text-align: right;\n",
       "    }\n",
       "</style>\n",
       "<table border=\"1\" class=\"dataframe\">\n",
       "  <thead>\n",
       "    <tr style=\"text-align: right;\">\n",
       "      <th></th>\n",
       "      <th>CountryIdentifier</th>\n",
       "      <th>HasDetections</th>\n",
       "      <th>count</th>\n",
       "    </tr>\n",
       "  </thead>\n",
       "  <tbody>\n",
       "    <tr>\n",
       "      <th>0</th>\n",
       "      <td>1</td>\n",
       "      <td>0.0</td>\n",
       "      <td>249</td>\n",
       "    </tr>\n",
       "    <tr>\n",
       "      <th>1</th>\n",
       "      <td>1</td>\n",
       "      <td>1.0</td>\n",
       "      <td>224</td>\n",
       "    </tr>\n",
       "    <tr>\n",
       "      <th>2</th>\n",
       "      <td>2</td>\n",
       "      <td>0.0</td>\n",
       "      <td>8366</td>\n",
       "    </tr>\n",
       "    <tr>\n",
       "      <th>3</th>\n",
       "      <td>2</td>\n",
       "      <td>1.0</td>\n",
       "      <td>7437</td>\n",
       "    </tr>\n",
       "    <tr>\n",
       "      <th>4</th>\n",
       "      <td>3</td>\n",
       "      <td>0.0</td>\n",
       "      <td>610</td>\n",
       "    </tr>\n",
       "    <tr>\n",
       "      <th>5</th>\n",
       "      <td>3</td>\n",
       "      <td>1.0</td>\n",
       "      <td>624</td>\n",
       "    </tr>\n",
       "    <tr>\n",
       "      <th>6</th>\n",
       "      <td>4</td>\n",
       "      <td>0.0</td>\n",
       "      <td>316</td>\n",
       "    </tr>\n",
       "    <tr>\n",
       "      <th>7</th>\n",
       "      <td>4</td>\n",
       "      <td>1.0</td>\n",
       "      <td>197</td>\n",
       "    </tr>\n",
       "    <tr>\n",
       "      <th>8</th>\n",
       "      <td>5</td>\n",
       "      <td>0.0</td>\n",
       "      <td>52</td>\n",
       "    </tr>\n",
       "    <tr>\n",
       "      <th>9</th>\n",
       "      <td>5</td>\n",
       "      <td>1.0</td>\n",
       "      <td>44</td>\n",
       "    </tr>\n",
       "    <tr>\n",
       "      <th>10</th>\n",
       "      <td>6</td>\n",
       "      <td>0.0</td>\n",
       "      <td>1247</td>\n",
       "    </tr>\n",
       "    <tr>\n",
       "      <th>11</th>\n",
       "      <td>6</td>\n",
       "      <td>1.0</td>\n",
       "      <td>1145</td>\n",
       "    </tr>\n",
       "    <tr>\n",
       "      <th>12</th>\n",
       "      <td>7</td>\n",
       "      <td>0.0</td>\n",
       "      <td>1378</td>\n",
       "    </tr>\n",
       "    <tr>\n",
       "      <th>13</th>\n",
       "      <td>7</td>\n",
       "      <td>1.0</td>\n",
       "      <td>2006</td>\n",
       "    </tr>\n",
       "    <tr>\n",
       "      <th>14</th>\n",
       "      <td>8</td>\n",
       "      <td>0.0</td>\n",
       "      <td>1694</td>\n",
       "    </tr>\n",
       "    <tr>\n",
       "      <th>15</th>\n",
       "      <td>8</td>\n",
       "      <td>1.0</td>\n",
       "      <td>1646</td>\n",
       "    </tr>\n",
       "    <tr>\n",
       "      <th>16</th>\n",
       "      <td>9</td>\n",
       "      <td>0.0</td>\n",
       "      <td>21565</td>\n",
       "    </tr>\n",
       "    <tr>\n",
       "      <th>17</th>\n",
       "      <td>9</td>\n",
       "      <td>1.0</td>\n",
       "      <td>23538</td>\n",
       "    </tr>\n",
       "    <tr>\n",
       "      <th>18</th>\n",
       "      <td>10</td>\n",
       "      <td>0.0</td>\n",
       "      <td>44</td>\n",
       "    </tr>\n",
       "    <tr>\n",
       "      <th>19</th>\n",
       "      <td>10</td>\n",
       "      <td>1.0</td>\n",
       "      <td>33</td>\n",
       "    </tr>\n",
       "    <tr>\n",
       "      <th>20</th>\n",
       "      <td>11</td>\n",
       "      <td>0.0</td>\n",
       "      <td>7332</td>\n",
       "    </tr>\n",
       "    <tr>\n",
       "      <th>21</th>\n",
       "      <td>11</td>\n",
       "      <td>1.0</td>\n",
       "      <td>6170</td>\n",
       "    </tr>\n",
       "    <tr>\n",
       "      <th>22</th>\n",
       "      <td>12</td>\n",
       "      <td>0.0</td>\n",
       "      <td>10813</td>\n",
       "    </tr>\n",
       "    <tr>\n",
       "      <th>23</th>\n",
       "      <td>12</td>\n",
       "      <td>1.0</td>\n",
       "      <td>9588</td>\n",
       "    </tr>\n",
       "    <tr>\n",
       "      <th>24</th>\n",
       "      <td>13</td>\n",
       "      <td>0.0</td>\n",
       "      <td>383</td>\n",
       "    </tr>\n",
       "    <tr>\n",
       "      <th>25</th>\n",
       "      <td>13</td>\n",
       "      <td>1.0</td>\n",
       "      <td>276</td>\n",
       "    </tr>\n",
       "    <tr>\n",
       "      <th>26</th>\n",
       "      <td>14</td>\n",
       "      <td>0.0</td>\n",
       "      <td>62</td>\n",
       "    </tr>\n",
       "    <tr>\n",
       "      <th>27</th>\n",
       "      <td>14</td>\n",
       "      <td>1.0</td>\n",
       "      <td>29</td>\n",
       "    </tr>\n",
       "    <tr>\n",
       "      <th>28</th>\n",
       "      <td>15</td>\n",
       "      <td>0.0</td>\n",
       "      <td>1256</td>\n",
       "    </tr>\n",
       "    <tr>\n",
       "      <th>29</th>\n",
       "      <td>15</td>\n",
       "      <td>1.0</td>\n",
       "      <td>1227</td>\n",
       "    </tr>\n",
       "    <tr>\n",
       "      <th>...</th>\n",
       "      <td>...</td>\n",
       "      <td>...</td>\n",
       "      <td>...</td>\n",
       "    </tr>\n",
       "    <tr>\n",
       "      <th>414</th>\n",
       "      <td>208</td>\n",
       "      <td>0.0</td>\n",
       "      <td>3391</td>\n",
       "    </tr>\n",
       "    <tr>\n",
       "      <th>415</th>\n",
       "      <td>208</td>\n",
       "      <td>1.0</td>\n",
       "      <td>3121</td>\n",
       "    </tr>\n",
       "    <tr>\n",
       "      <th>416</th>\n",
       "      <td>209</td>\n",
       "      <td>0.0</td>\n",
       "      <td>439</td>\n",
       "    </tr>\n",
       "    <tr>\n",
       "      <th>417</th>\n",
       "      <td>209</td>\n",
       "      <td>1.0</td>\n",
       "      <td>479</td>\n",
       "    </tr>\n",
       "    <tr>\n",
       "      <th>418</th>\n",
       "      <td>210</td>\n",
       "      <td>0.0</td>\n",
       "      <td>239</td>\n",
       "    </tr>\n",
       "    <tr>\n",
       "      <th>419</th>\n",
       "      <td>210</td>\n",
       "      <td>1.0</td>\n",
       "      <td>182</td>\n",
       "    </tr>\n",
       "    <tr>\n",
       "      <th>420</th>\n",
       "      <td>211</td>\n",
       "      <td>0.0</td>\n",
       "      <td>5620</td>\n",
       "    </tr>\n",
       "    <tr>\n",
       "      <th>421</th>\n",
       "      <td>211</td>\n",
       "      <td>1.0</td>\n",
       "      <td>5928</td>\n",
       "    </tr>\n",
       "    <tr>\n",
       "      <th>422</th>\n",
       "      <td>212</td>\n",
       "      <td>0.0</td>\n",
       "      <td>35</td>\n",
       "    </tr>\n",
       "    <tr>\n",
       "      <th>423</th>\n",
       "      <td>212</td>\n",
       "      <td>1.0</td>\n",
       "      <td>23</td>\n",
       "    </tr>\n",
       "    <tr>\n",
       "      <th>424</th>\n",
       "      <td>213</td>\n",
       "      <td>0.0</td>\n",
       "      <td>226</td>\n",
       "    </tr>\n",
       "    <tr>\n",
       "      <th>425</th>\n",
       "      <td>213</td>\n",
       "      <td>1.0</td>\n",
       "      <td>88</td>\n",
       "    </tr>\n",
       "    <tr>\n",
       "      <th>426</th>\n",
       "      <td>214</td>\n",
       "      <td>0.0</td>\n",
       "      <td>18456</td>\n",
       "    </tr>\n",
       "    <tr>\n",
       "      <th>427</th>\n",
       "      <td>214</td>\n",
       "      <td>1.0</td>\n",
       "      <td>29413</td>\n",
       "    </tr>\n",
       "    <tr>\n",
       "      <th>428</th>\n",
       "      <td>215</td>\n",
       "      <td>0.0</td>\n",
       "      <td>76</td>\n",
       "    </tr>\n",
       "    <tr>\n",
       "      <th>429</th>\n",
       "      <td>215</td>\n",
       "      <td>1.0</td>\n",
       "      <td>76</td>\n",
       "    </tr>\n",
       "    <tr>\n",
       "      <th>430</th>\n",
       "      <td>216</td>\n",
       "      <td>0.0</td>\n",
       "      <td>62</td>\n",
       "    </tr>\n",
       "    <tr>\n",
       "      <th>431</th>\n",
       "      <td>216</td>\n",
       "      <td>1.0</td>\n",
       "      <td>38</td>\n",
       "    </tr>\n",
       "    <tr>\n",
       "      <th>432</th>\n",
       "      <td>217</td>\n",
       "      <td>0.0</td>\n",
       "      <td>11</td>\n",
       "    </tr>\n",
       "    <tr>\n",
       "      <th>433</th>\n",
       "      <td>217</td>\n",
       "      <td>1.0</td>\n",
       "      <td>19</td>\n",
       "    </tr>\n",
       "    <tr>\n",
       "      <th>434</th>\n",
       "      <td>218</td>\n",
       "      <td>0.0</td>\n",
       "      <td>371</td>\n",
       "    </tr>\n",
       "    <tr>\n",
       "      <th>435</th>\n",
       "      <td>218</td>\n",
       "      <td>1.0</td>\n",
       "      <td>528</td>\n",
       "    </tr>\n",
       "    <tr>\n",
       "      <th>436</th>\n",
       "      <td>219</td>\n",
       "      <td>0.0</td>\n",
       "      <td>354</td>\n",
       "    </tr>\n",
       "    <tr>\n",
       "      <th>437</th>\n",
       "      <td>219</td>\n",
       "      <td>1.0</td>\n",
       "      <td>225</td>\n",
       "    </tr>\n",
       "    <tr>\n",
       "      <th>438</th>\n",
       "      <td>220</td>\n",
       "      <td>0.0</td>\n",
       "      <td>11116</td>\n",
       "    </tr>\n",
       "    <tr>\n",
       "      <th>439</th>\n",
       "      <td>220</td>\n",
       "      <td>1.0</td>\n",
       "      <td>9744</td>\n",
       "    </tr>\n",
       "    <tr>\n",
       "      <th>440</th>\n",
       "      <td>221</td>\n",
       "      <td>0.0</td>\n",
       "      <td>1245</td>\n",
       "    </tr>\n",
       "    <tr>\n",
       "      <th>441</th>\n",
       "      <td>221</td>\n",
       "      <td>1.0</td>\n",
       "      <td>1122</td>\n",
       "    </tr>\n",
       "    <tr>\n",
       "      <th>442</th>\n",
       "      <td>222</td>\n",
       "      <td>0.0</td>\n",
       "      <td>1771</td>\n",
       "    </tr>\n",
       "    <tr>\n",
       "      <th>443</th>\n",
       "      <td>222</td>\n",
       "      <td>1.0</td>\n",
       "      <td>1701</td>\n",
       "    </tr>\n",
       "  </tbody>\n",
       "</table>\n",
       "<p>444 rows × 3 columns</p>\n",
       "</div>"
      ],
      "text/plain": [
       "     CountryIdentifier  HasDetections  count\n",
       "0                    1            0.0    249\n",
       "1                    1            1.0    224\n",
       "2                    2            0.0   8366\n",
       "3                    2            1.0   7437\n",
       "4                    3            0.0    610\n",
       "5                    3            1.0    624\n",
       "6                    4            0.0    316\n",
       "7                    4            1.0    197\n",
       "8                    5            0.0     52\n",
       "9                    5            1.0     44\n",
       "10                   6            0.0   1247\n",
       "11                   6            1.0   1145\n",
       "12                   7            0.0   1378\n",
       "13                   7            1.0   2006\n",
       "14                   8            0.0   1694\n",
       "15                   8            1.0   1646\n",
       "16                   9            0.0  21565\n",
       "17                   9            1.0  23538\n",
       "18                  10            0.0     44\n",
       "19                  10            1.0     33\n",
       "20                  11            0.0   7332\n",
       "21                  11            1.0   6170\n",
       "22                  12            0.0  10813\n",
       "23                  12            1.0   9588\n",
       "24                  13            0.0    383\n",
       "25                  13            1.0    276\n",
       "26                  14            0.0     62\n",
       "27                  14            1.0     29\n",
       "28                  15            0.0   1256\n",
       "29                  15            1.0   1227\n",
       "..                 ...            ...    ...\n",
       "414                208            0.0   3391\n",
       "415                208            1.0   3121\n",
       "416                209            0.0    439\n",
       "417                209            1.0    479\n",
       "418                210            0.0    239\n",
       "419                210            1.0    182\n",
       "420                211            0.0   5620\n",
       "421                211            1.0   5928\n",
       "422                212            0.0     35\n",
       "423                212            1.0     23\n",
       "424                213            0.0    226\n",
       "425                213            1.0     88\n",
       "426                214            0.0  18456\n",
       "427                214            1.0  29413\n",
       "428                215            0.0     76\n",
       "429                215            1.0     76\n",
       "430                216            0.0     62\n",
       "431                216            1.0     38\n",
       "432                217            0.0     11\n",
       "433                217            1.0     19\n",
       "434                218            0.0    371\n",
       "435                218            1.0    528\n",
       "436                219            0.0    354\n",
       "437                219            1.0    225\n",
       "438                220            0.0  11116\n",
       "439                220            1.0   9744\n",
       "440                221            0.0   1245\n",
       "441                221            1.0   1122\n",
       "442                222            0.0   1771\n",
       "443                222            1.0   1701\n",
       "\n",
       "[444 rows x 3 columns]"
      ]
     },
     "execution_count": 62,
     "metadata": {},
     "output_type": "execute_result"
    }
   ],
   "source": [
    "groupby_ = pd.DataFrame({'count' : df_train.groupby( [ 'CountryIdentifier', \"HasDetections\"] ).size()}).reset_index()\n",
    "groupby_"
   ]
  },
  {
   "cell_type": "code",
   "execution_count": 64,
   "metadata": {},
   "outputs": [],
   "source": [
    "for i in range(0,len(groupby_),2):\n",
    "\n",
    "    if i == len(groupby_)-1:\n",
    "        break\n",
    "    total_ = groupby_.loc[i]['count'] + groupby_.loc[i+1]['count']\n",
    "    dict_[groupby_['CountryIdentifier'][i]] = groupby_.loc[i+1]['count']/total_\n",
    "    i = i + 2"
   ]
  },
  {
   "cell_type": "code",
   "execution_count": 65,
   "metadata": {},
   "outputs": [],
   "source": [
    "dict_ = {k: v for k, v in sorted(dict_.items(), key=lambda x: x[1])}\n",
    "x =list(dict_.keys())\n",
    "y =list(dict_.values())"
   ]
  },
  {
   "cell_type": "code",
   "execution_count": 68,
   "metadata": {},
   "outputs": [
    {
     "data": {
      "text/plain": [
       "[Text(0,0.5,'Detection rate')]"
      ]
     },
     "execution_count": 68,
     "metadata": {},
     "output_type": "execute_result"
    },
    {
     "data": {
      "image/png": "[encoded data removed]",
      "text/plain": [
       "<Figure size 432x288 with 1 Axes>"
      ]
     },
     "metadata": {
      "needs_background": "light"
     },
     "output_type": "display_data"
    }
   ],
   "source": [
    "clrs = ['grey' if (x_ >= min(y)) else 'red' for x_ in y ]\n",
    "\n",
    "ax = sns.barplot(x=x[:20], y=y[:20],palette=clrs)\n",
    "ax.set(ylabel='Detection rate')\n"
   ]
  },
  {
   "cell_type": "code",
   "execution_count": 70,
   "metadata": {},
   "outputs": [
    {
     "data": {
      "text/plain": [
       "[Text(0,0.5,'Detection rate')]"
      ]
     },
     "execution_count": 70,
     "metadata": {},
     "output_type": "execute_result"
    },
    {
     "data": {
      "image/png": "[encoded data removed]",
      "text/plain": [
       "<Figure size 432x288 with 1 Axes>"
      ]
     },
     "metadata": {
      "needs_background": "light"
     },
     "output_type": "display_data"
    }
   ],
   "source": [
    "clrs = ['grey' if (x_ >= min(y)) else 'red' for x_ in y ]\n",
    "\n",
    "ax = sns.barplot(x=x[-10:], y=y[-10:],palette=clrs)\n",
    "ax.set(ylabel='Detection rate')\n"
   ]
  },
  {
   "cell_type": "markdown",
   "metadata": {},
   "source": [
    "## Census_OSWUAutoUpdateOptionsName"
   ]
  },
  {
   "cell_type": "code",
   "execution_count": 71,
   "metadata": {},
   "outputs": [
    {
     "data": {
      "text/html": [
       "<div>\n",
       "<style scoped>\n",
       "    .dataframe tbody tr th:only-of-type {\n",
       "        vertical-align: middle;\n",
       "    }\n",
       "\n",
       "    .dataframe tbody tr th {\n",
       "        vertical-align: top;\n",
       "    }\n",
       "\n",
       "    .dataframe thead th {\n",
       "        text-align: right;\n",
       "    }\n",
       "</style>\n",
       "<table border=\"1\" class=\"dataframe\">\n",
       "  <thead>\n",
       "    <tr style=\"text-align: right;\">\n",
       "      <th></th>\n",
       "      <th>Census_OSWUAutoUpdateOptionsName</th>\n",
       "      <th>HasDetections</th>\n",
       "      <th>count</th>\n",
       "    </tr>\n",
       "  </thead>\n",
       "  <tbody>\n",
       "    <tr>\n",
       "      <th>0</th>\n",
       "      <td>AutoInstallAndRebootAtMaintenanceTime</td>\n",
       "      <td>0.0</td>\n",
       "      <td>45732</td>\n",
       "    </tr>\n",
       "    <tr>\n",
       "      <th>1</th>\n",
       "      <td>AutoInstallAndRebootAtMaintenanceTime</td>\n",
       "      <td>1.0</td>\n",
       "      <td>48767</td>\n",
       "    </tr>\n",
       "    <tr>\n",
       "      <th>2</th>\n",
       "      <td>DownloadNotify</td>\n",
       "      <td>0.0</td>\n",
       "      <td>2023</td>\n",
       "    </tr>\n",
       "    <tr>\n",
       "      <th>3</th>\n",
       "      <td>DownloadNotify</td>\n",
       "      <td>1.0</td>\n",
       "      <td>1205</td>\n",
       "    </tr>\n",
       "    <tr>\n",
       "      <th>4</th>\n",
       "      <td>FullAuto</td>\n",
       "      <td>0.0</td>\n",
       "      <td>415859</td>\n",
       "    </tr>\n",
       "    <tr>\n",
       "      <th>5</th>\n",
       "      <td>FullAuto</td>\n",
       "      <td>1.0</td>\n",
       "      <td>486739</td>\n",
       "    </tr>\n",
       "    <tr>\n",
       "      <th>6</th>\n",
       "      <td>Notify</td>\n",
       "      <td>0.0</td>\n",
       "      <td>294146</td>\n",
       "    </tr>\n",
       "    <tr>\n",
       "      <th>7</th>\n",
       "      <td>Notify</td>\n",
       "      <td>1.0</td>\n",
       "      <td>275142</td>\n",
       "    </tr>\n",
       "    <tr>\n",
       "      <th>8</th>\n",
       "      <td>Off</td>\n",
       "      <td>0.0</td>\n",
       "      <td>3562</td>\n",
       "    </tr>\n",
       "    <tr>\n",
       "      <th>9</th>\n",
       "      <td>Off</td>\n",
       "      <td>1.0</td>\n",
       "      <td>3367</td>\n",
       "    </tr>\n",
       "    <tr>\n",
       "      <th>10</th>\n",
       "      <td>UNKNOWN</td>\n",
       "      <td>0.0</td>\n",
       "      <td>329789</td>\n",
       "    </tr>\n",
       "    <tr>\n",
       "      <th>11</th>\n",
       "      <td>UNKNOWN</td>\n",
       "      <td>1.0</td>\n",
       "      <td>324039</td>\n",
       "    </tr>\n",
       "  </tbody>\n",
       "</table>\n",
       "</div>"
      ],
      "text/plain": [
       "         Census_OSWUAutoUpdateOptionsName  HasDetections   count\n",
       "0   AutoInstallAndRebootAtMaintenanceTime            0.0   45732\n",
       "1   AutoInstallAndRebootAtMaintenanceTime            1.0   48767\n",
       "2                          DownloadNotify            0.0    2023\n",
       "3                          DownloadNotify            1.0    1205\n",
       "4                                FullAuto            0.0  415859\n",
       "5                                FullAuto            1.0  486739\n",
       "6                                  Notify            0.0  294146\n",
       "7                                  Notify            1.0  275142\n",
       "8                                     Off            0.0    3562\n",
       "9                                     Off            1.0    3367\n",
       "10                                UNKNOWN            0.0  329789\n",
       "11                                UNKNOWN            1.0  324039"
      ]
     },
     "execution_count": 71,
     "metadata": {},
     "output_type": "execute_result"
    }
   ],
   "source": [
    "groupby_ = pd.DataFrame({'count' : df_train.groupby( [ 'Census_OSWUAutoUpdateOptionsName', \"HasDetections\"] ).size()}).reset_index()\n",
    "groupby_"
   ]
  },
  {
   "cell_type": "code",
   "execution_count": 73,
   "metadata": {},
   "outputs": [],
   "source": [
    "for i in range(0,len(groupby_),2):\n",
    "\n",
    "    if i == len(groupby_)-1:\n",
    "        break\n",
    "    total_ = groupby_.loc[i]['count'] + groupby_.loc[i+1]['count']\n",
    "    dict_[groupby_['Census_OSWUAutoUpdateOptionsName'][i]] = groupby_.loc[i+1]['count']/total_\n",
    "    i = i + 2"
   ]
  },
  {
   "cell_type": "code",
   "execution_count": 74,
   "metadata": {},
   "outputs": [],
   "source": [
    "dict_ = {k: v for k, v in sorted(dict_.items(), key=lambda x: x[1])}\n",
    "x =list(dict_.keys())\n",
    "y =list(dict_.values())"
   ]
  },
  {
   "cell_type": "code",
   "execution_count": 77,
   "metadata": {},
   "outputs": [
    {
     "data": {
      "text/plain": [
       "[Text(0,0.5,'Detection rate')]"
      ]
     },
     "execution_count": 77,
     "metadata": {},
     "output_type": "execute_result"
    },
    {
     "data": {
      "image/png": "[encoded data removed]",
      "text/plain": [
       "<Figure size 432x288 with 1 Axes>"
      ]
     },
     "metadata": {
      "needs_background": "light"
     },
     "output_type": "display_data"
    }
   ],
   "source": [
    "clrs = ['grey' if (x_ >= min(y)) else 'red' for x_ in y ]\n",
    "\n",
    "ax = sns.barplot(x=x[:2], y=y[:2],palette=clrs)\n",
    "ax.set(ylabel='Detection rate')\n"
   ]
  },
  {
   "cell_type": "markdown",
   "metadata": {},
   "source": [
    "# Freq encoding"
   ]
  },
  {
   "cell_type": "markdown",
   "metadata": {},
   "source": [
    "## AVProductInstalled"
   ]
  },
  {
   "cell_type": "code",
   "execution_count": 19,
   "metadata": {},
   "outputs": [],
   "source": [
    "groupby_AV = pd.DataFrame({'count' : df_train.groupby( [ \"AVProductsInstalled\", \"HasDetections\"] ).size()}).reset_index()"
   ]
  },
  {
   "cell_type": "code",
   "execution_count": 20,
   "metadata": {},
   "outputs": [],
   "source": [
    "groupby_AV = groupby_AV[groupby_AV.AVProductsInstalled != 0.0]"
   ]
  },
  {
   "cell_type": "code",
   "execution_count": 21,
   "metadata": {},
   "outputs": [],
   "source": [
    "sum_AV = np.asanyarray(groupby_AV['count'])\n",
    "sum_AV = sum_AV.sum()"
   ]
  },
  {
   "cell_type": "code",
   "execution_count": 22,
   "metadata": {},
   "outputs": [
    {
     "data": {
      "text/html": [
       "<div>\n",
       "<style scoped>\n",
       "    .dataframe tbody tr th:only-of-type {\n",
       "        vertical-align: middle;\n",
       "    }\n",
       "\n",
       "    .dataframe tbody tr th {\n",
       "        vertical-align: top;\n",
       "    }\n",
       "\n",
       "    .dataframe thead th {\n",
       "        text-align: right;\n",
       "    }\n",
       "</style>\n",
       "<table border=\"1\" class=\"dataframe\">\n",
       "  <thead>\n",
       "    <tr style=\"text-align: right;\">\n",
       "      <th></th>\n",
       "      <th>AVProductsInstalled</th>\n",
       "      <th>HasDetections</th>\n",
       "      <th>count</th>\n",
       "    </tr>\n",
       "  </thead>\n",
       "  <tbody>\n",
       "    <tr>\n",
       "      <th>1</th>\n",
       "      <td>1.0</td>\n",
       "      <td>0.0</td>\n",
       "      <td>674114</td>\n",
       "    </tr>\n",
       "    <tr>\n",
       "      <th>2</th>\n",
       "      <td>1.0</td>\n",
       "      <td>1.0</td>\n",
       "      <td>863990</td>\n",
       "    </tr>\n",
       "    <tr>\n",
       "      <th>3</th>\n",
       "      <td>2.0</td>\n",
       "      <td>0.0</td>\n",
       "      <td>371884</td>\n",
       "    </tr>\n",
       "    <tr>\n",
       "      <th>4</th>\n",
       "      <td>2.0</td>\n",
       "      <td>1.0</td>\n",
       "      <td>255528</td>\n",
       "    </tr>\n",
       "    <tr>\n",
       "      <th>5</th>\n",
       "      <td>3.0</td>\n",
       "      <td>0.0</td>\n",
       "      <td>37672</td>\n",
       "    </tr>\n",
       "    <tr>\n",
       "      <th>6</th>\n",
       "      <td>3.0</td>\n",
       "      <td>1.0</td>\n",
       "      <td>15562</td>\n",
       "    </tr>\n",
       "    <tr>\n",
       "      <th>7</th>\n",
       "      <td>4.0</td>\n",
       "      <td>0.0</td>\n",
       "      <td>1705</td>\n",
       "    </tr>\n",
       "    <tr>\n",
       "      <th>8</th>\n",
       "      <td>4.0</td>\n",
       "      <td>1.0</td>\n",
       "      <td>625</td>\n",
       "    </tr>\n",
       "    <tr>\n",
       "      <th>9</th>\n",
       "      <td>5.0</td>\n",
       "      <td>0.0</td>\n",
       "      <td>93</td>\n",
       "    </tr>\n",
       "    <tr>\n",
       "      <th>10</th>\n",
       "      <td>5.0</td>\n",
       "      <td>1.0</td>\n",
       "      <td>31</td>\n",
       "    </tr>\n",
       "    <tr>\n",
       "      <th>11</th>\n",
       "      <td>6.0</td>\n",
       "      <td>0.0</td>\n",
       "      <td>1</td>\n",
       "    </tr>\n",
       "    <tr>\n",
       "      <th>12</th>\n",
       "      <td>7.0</td>\n",
       "      <td>1.0</td>\n",
       "      <td>1</td>\n",
       "    </tr>\n",
       "  </tbody>\n",
       "</table>\n",
       "</div>"
      ],
      "text/plain": [
       "    AVProductsInstalled  HasDetections   count\n",
       "1                   1.0            0.0  674114\n",
       "2                   1.0            1.0  863990\n",
       "3                   2.0            0.0  371884\n",
       "4                   2.0            1.0  255528\n",
       "5                   3.0            0.0   37672\n",
       "6                   3.0            1.0   15562\n",
       "7                   4.0            0.0    1705\n",
       "8                   4.0            1.0     625\n",
       "9                   5.0            0.0      93\n",
       "10                  5.0            1.0      31\n",
       "11                  6.0            0.0       1\n",
       "12                  7.0            1.0       1"
      ]
     },
     "execution_count": 22,
     "metadata": {},
     "output_type": "execute_result"
    }
   ],
   "source": [
    "groupby_AV"
   ]
  },
  {
   "cell_type": "code",
   "execution_count": 23,
   "metadata": {},
   "outputs": [],
   "source": [
    "dict_rate = {}\n",
    "dict_percentage = {}\n",
    "\n",
    "for i in range(1,len(groupby_AV),2):\n",
    "\n",
    "    if i == len(groupby_AV)-1:\n",
    "        break\n",
    "    total_ = groupby_AV.loc[i]['count'] + groupby_AV.loc[i+1]['count']\n",
    "    dict_rate[groupby_AV['AVProductsInstalled'][i]] = groupby_AV.loc[i+1]['count']/total_\n",
    "    dict_percentage[groupby_AV['AVProductsInstalled'][i]] = total_/sum_AV\n"
   ]
  },
  {
   "cell_type": "code",
   "execution_count": 24,
   "metadata": {},
   "outputs": [
    {
     "data": {
      "text/plain": [
       "{1.0: 0.5617240446679809,\n",
       " 2.0: 0.40727305183834545,\n",
       " 3.0: 0.2923319682909419,\n",
       " 4.0: 0.26824034334763946,\n",
       " 5.0: 0.25}"
      ]
     },
     "execution_count": 24,
     "metadata": {},
     "output_type": "execute_result"
    }
   ],
   "source": [
    "dict_rate"
   ]
  },
  {
   "cell_type": "code",
   "execution_count": 25,
   "metadata": {},
   "outputs": [
    {
     "data": {
      "text/plain": [
       "{1.0: 0.6924634635418777,\n",
       " 2.0: 0.2824645710483404,\n",
       " 3.0: 0.023966259770593093,\n",
       " 4.0: 0.0010489796984160856,\n",
       " 5.0: 5.582552901441829e-05}"
      ]
     },
     "execution_count": 25,
     "metadata": {},
     "output_type": "execute_result"
    }
   ],
   "source": [
    "dict_percentage"
   ]
  },
  {
   "cell_type": "code",
   "execution_count": 26,
   "metadata": {},
   "outputs": [],
   "source": [
    "x_rate =list(dict_rate.keys())\n",
    "y_rate =list(dict_rate.values())\n",
    "\n",
    "x_per =list(dict_percentage.keys())\n",
    "y_per =list(dict_percentage.values())"
   ]
  },
  {
   "cell_type": "code",
   "execution_count": 27,
   "metadata": {},
   "outputs": [],
   "source": [
    "x = [int(x_) for x_ in x_per]"
   ]
  },
  {
   "cell_type": "code",
   "execution_count": 28,
   "metadata": {},
   "outputs": [
    {
     "data": {
      "image/png": "[encoded data removed]",
      "text/plain": [
       "<Figure size 432x288 with 2 Axes>"
      ]
     },
     "metadata": {},
     "output_type": "display_data"
    }
   ],
   "source": [
    "\n",
    "fig, ax1 = plt.subplots()\n",
    "\n",
    "ax2 = ax1.twinx()\n",
    "ax1.bar(x[:4], y_rate[:4])\n",
    "ax2.plot(x[:4], y_per[:4], 'b-')\n",
    "\n",
    "ax1.set_xlabel('X data')\n",
    "ax1.set_ylabel('Category Frequency', color='g')\n",
    "ax2.set_ylabel('Detection rate', color='b')\n",
    "plt.show()"
   ]
  },
  {
   "cell_type": "code",
   "execution_count": 79,
   "metadata": {},
   "outputs": [],
   "source": [
    "c_ =['AVProductsInstalled',  'Census_OSInstallTypeName', 'OsBuild', 'EngineVersion',  'OsPlatformSubRelease', \n",
    "     'Census_OSBuildNumber','Census_OSBuildRevision',   'Census_FlightRing',  'Census_FirmwareManufacturerIdentifier', 'Wdft_RegionIdentifier']"
   ]
  },
  {
   "cell_type": "markdown",
   "metadata": {},
   "source": [
    "## OsBuild"
   ]
  },
  {
   "cell_type": "code",
   "execution_count": 81,
   "metadata": {},
   "outputs": [],
   "source": [
    "groupby_AV = pd.DataFrame({'count' : df_train.groupby( [ \"OsBuild\", \"HasDetections\"] ).size()}).reset_index()"
   ]
  },
  {
   "cell_type": "markdown",
   "metadata": {},
   "source": [
    "\n",
    "## Census_OSBuildRevision"
   ]
  },
  {
   "cell_type": "code",
   "execution_count": 87,
   "metadata": {},
   "outputs": [],
   "source": [
    "groupby_AV = pd.DataFrame({'count' : df_train.groupby( [ \"Census_OSBuildRevision\", \"HasDetections\"] ).size()}).reset_index()"
   ]
  },
  {
   "cell_type": "code",
   "execution_count": 89,
   "metadata": {},
   "outputs": [
    {
     "data": {
      "image/png": "[encoded data removed]",
      "text/plain": [
       "<Figure size 432x288 with 2 Axes>"
      ]
     },
     "metadata": {
      "needs_background": "light"
     },
     "output_type": "display_data"
    }
   ],
   "source": [
    "sum_AV = np.asanyarray(groupby_AV['count'])\n",
    "sum_AV = sum_AV.sum()\n",
    "\n",
    "dict_rate = {}\n",
    "dict_percentage = {}\n",
    "\n",
    "for i in range(1,len(groupby_AV),2):\n",
    "\n",
    "    if i == len(groupby_AV)-1:\n",
    "        break\n",
    "    total_ = groupby_AV.loc[i]['count'] + groupby_AV.loc[i+1]['count']\n",
    "    dict_rate[groupby_AV['Census_OSBuildRevision'][i]] = groupby_AV.loc[i+1]['count']/total_\n",
    "    dict_percentage[groupby_AV['Census_OSBuildRevision'][i]] = total_/sum_AV\n",
    "    \n",
    "x_rate =list(dict_rate.keys())\n",
    "y_rate =list(dict_rate.values())\n",
    "\n",
    "x_per =list(dict_percentage.keys())\n",
    "y_per =list(dict_percentage.values())\n",
    "\n",
    "x = [int(x_) for x_ in x_per]\n",
    "\n",
    "fig, ax1 = plt.subplots()\n",
    "\n",
    "ax2 = ax1.twinx()\n",
    "ax1.bar(x[:4], y_rate[:4])\n",
    "ax2.plot(x[:4], y_per[:4], 'b-')\n",
    "\n",
    "ax1.set_xlabel('X data')\n",
    "ax1.set_ylabel('Category Frequency', color='g')\n",
    "ax2.set_ylabel('Detection rate', color='b')\n",
    "plt.show()"
   ]
  },
  {
   "cell_type": "code",
   "execution_count": 4,
   "metadata": {},
   "outputs": [],
   "source": [
    "## CountryIdentifier"
   ]
  },
  {
   "cell_type": "code",
   "execution_count": 13,
   "metadata": {},
   "outputs": [
    {
     "data": {
      "image/png": "[encoded data removed]",
      "text/plain": [
       "<Figure size 432x288 with 2 Axes>"
      ]
     },
     "metadata": {
      "needs_background": "light"
     },
     "output_type": "display_data"
    }
   ],
   "source": [
    "cant = 50\n",
    "groupby_AV = pd.DataFrame({'count' : df_train.groupby( ['OsPlatformSubRelease', \"HasDetections\"] ).size()}).reset_index()\n",
    "sum_AV = np.asanyarray(groupby_AV['count'])\n",
    "sum_AV = sum_AV.sum()\n",
    "\n",
    "dict_rate = {}\n",
    "dict_percentage = {}\n",
    "\n",
    "for i in range(1,len(groupby_AV),2):\n",
    "\n",
    "    if i == len(groupby_AV)-1:\n",
    "        break\n",
    "    total_ = groupby_AV.loc[i]['count'] + groupby_AV.loc[i+1]['count']\n",
    "    dict_rate[groupby_AV['OsPlatformSubRelease'][i]] = groupby_AV.loc[i+1]['count']/total_\n",
    "    dict_percentage[groupby_AV['OsPlatformSubRelease'][i]] = total_/sum_AV\n",
    "    \n",
    "x_rate =list(dict_rate.keys())\n",
    "y_rate =list(dict_rate.values())\n",
    "\n",
    "x_per =list(dict_percentage.keys())\n",
    "y_per =list(dict_percentage.values())\n",
    "\n",
    "#x = [int(x_) for x_ in x_per]\n",
    "x = x_per\n",
    "fig, ax1 = plt.subplots()\n",
    "\n",
    "ax2 = ax1.twinx()\n",
    "ax1.bar(x[:cant], y_rate[:cant])\n",
    "ax2.plot(x[:cant], y_per[:cant], 'b-')\n",
    "\n",
    "ax1.set_xlabel('X data')\n",
    "ax1.set_ylabel('Category Frequency', color='g')\n",
    "ax2.set_ylabel('Detection rate', color='b')\n",
    "plt.show()"
   ]
  },
  {
   "cell_type": "code",
   "execution_count": 6,
   "metadata": {},
   "outputs": [
    {
     "data": {
      "image/png": "[encoded data removed]",
      "text/plain": [
       "<Figure size 432x288 with 2 Axes>"
      ]
     },
     "metadata": {
      "needs_background": "light"
     },
     "output_type": "display_data"
    }
   ],
   "source": [
    "fre_plot('CountryIdentifier')"
   ]
  },
  {
   "cell_type": "code",
   "execution_count": 5,
   "metadata": {},
   "outputs": [],
   "source": [
    "def fre_plot(cat,cant = 4):\n",
    "    groupby_AV = pd.DataFrame({'count' : df_train.groupby( [cat, \"HasDetections\"] ).size()}).reset_index()\n",
    "    sum_AV = np.asanyarray(groupby_AV['count'])\n",
    "    sum_AV = sum_AV.sum()\n",
    "    \n",
    "    dict_rate = {}\n",
    "    dict_percentage = {}\n",
    "    \n",
    "    for i in range(1,len(groupby_AV),2):\n",
    "    \n",
    "        if i == len(groupby_AV)-1:\n",
    "            break\n",
    "        total_ = groupby_AV.loc[i]['count'] + groupby_AV.loc[i+1]['count']\n",
    "        dict_rate[groupby_AV[cat][i]] = groupby_AV.loc[i+1]['count']/total_\n",
    "        dict_percentage[groupby_AV[cat][i]] = total_/sum_AV\n",
    "        \n",
    "    x_rate =list(dict_rate.keys())\n",
    "    y_rate =list(dict_rate.values())\n",
    "    \n",
    "    x_per =list(dict_percentage.keys())\n",
    "    y_per =list(dict_percentage.values())\n",
    "    \n",
    "    x = [int(x_) for x_ in x_per]\n",
    "    \n",
    "    fig, ax1 = plt.subplots()\n",
    "    \n",
    "    ax2 = ax1.twinx()\n",
    "    ax1.bar(x[:cant], y_rate[:cant])\n",
    "    ax2.plot(x[:cant], y_per[:cant], 'b-')\n",
    "    \n",
    "    ax1.set_xlabel('X data')\n",
    "    ax1.set_ylabel('Category Frequency', color='g')\n",
    "    ax2.set_ylabel('Detection rate', color='b')\n",
    "    plt.show()"
   ]
  },
  {
   "cell_type": "markdown",
   "metadata": {},
   "source": [
    "## Census_FlightRing"
   ]
  },
  {
   "cell_type": "code",
   "execution_count": 94,
   "metadata": {},
   "outputs": [
    {
     "data": {
      "image/png": "[encoded data removed]",
      "text/plain": [
       "<Figure size 432x288 with 2 Axes>"
      ]
     },
     "metadata": {
      "needs_background": "light"
     },
     "output_type": "display_data"
    }
   ],
   "source": [
    "fre_plot('Wdft_RegionIdentifier')"
   ]
  },
  {
   "cell_type": "code",
   "execution_count": 125,
   "metadata": {},
   "outputs": [
    {
     "data": {
      "image/png": "[encoded data removed]",
      "text/plain": [
       "<Figure size 432x288 with 2 Axes>"
      ]
     },
     "metadata": {
      "needs_background": "light"
     },
     "output_type": "display_data"
    }
   ],
   "source": [
    "fre_plot('Census_OSVersion',5)"
   ]
  },
  {
   "cell_type": "code",
   "execution_count": 102,
   "metadata": {},
   "outputs": [
    {
     "data": {
      "image/png": "[encoded data removed]",
      "text/plain": [
       "<Figure size 432x288 with 2 Axes>"
      ]
     },
     "metadata": {
      "needs_background": "light"
     },
     "output_type": "display_data"
    }
   ],
   "source": [
    "fre_plot('OsPlatformSubRelease')"
   ]
  },
  {
   "cell_type": "code",
   "execution_count": 105,
   "metadata": {},
   "outputs": [
    {
     "data": {
      "image/png": "[encoded data removed]",
      "text/plain": [
       "<Figure size 432x288 with 2 Axes>"
      ]
     },
     "metadata": {
      "needs_background": "light"
     },
     "output_type": "display_data"
    }
   ],
   "source": [
    "fre_plot('Census_OSInstallTypeName')"
   ]
  },
  {
   "cell_type": "code",
   "execution_count": 114,
   "metadata": {},
   "outputs": [
    {
     "data": {
      "image/png": "[encoded data removed]",
      "text/plain": [
       "<Figure size 432x288 with 2 Axes>"
      ]
     },
     "metadata": {
      "needs_background": "light"
     },
     "output_type": "display_data"
    }
   ],
   "source": [
    "fre_plot('EngineVersion',cant=4)"
   ]
  },
  {
   "cell_type": "code",
   "execution_count": 112,
   "metadata": {},
   "outputs": [
    {
     "data": {
      "image/png": "[encoded data removed]",
      "text/plain": [
       "<Figure size 432x288 with 2 Axes>"
      ]
     },
     "metadata": {
      "needs_background": "light"
     },
     "output_type": "display_data"
    }
   ],
   "source": [
    "fre_plot('OsPlatformSubRelease',cant=4)"
   ]
  },
  {
   "cell_type": "code",
   "execution_count": 121,
   "metadata": {},
   "outputs": [
    {
     "data": {
      "image/png": "[encoded data removed]",
      "text/plain": [
       "<Figure size 432x288 with 2 Axes>"
      ]
     },
     "metadata": {
      "needs_background": "light"
     },
     "output_type": "display_data"
    }
   ],
   "source": [
    "fre_plot('Census_PrimaryDiskTypeName',3)"
   ]
  },
  {
   "cell_type": "code",
   "execution_count": 127,
   "metadata": {},
   "outputs": [
    {
     "data": {
      "image/png": "[encoded data removed]",
      "text/plain": [
       "<Figure size 432x288 with 2 Axes>"
      ]
     },
     "metadata": {
      "needs_background": "light"
     },
     "output_type": "display_data"
    }
   ],
   "source": [
    "fre_plot('Census_FirmwareManufacturerIdentifier',2)"
   ]
  },
  {
   "cell_type": "code",
   "execution_count": null,
   "metadata": {},
   "outputs": [],
   "source": []
  }
 ],
 "metadata": {
  "kernelspec": {
   "display_name": "Python 3",
   "language": "python",
   "name": "python3"
  },
  "language_info": {
   "codemirror_mode": {
    "name": "ipython",
    "version": 3
   },
   "file_extension": ".py",
   "mimetype": "text/x-python",
   "name": "python",
   "nbconvert_exporter": "python",
   "pygments_lexer": "ipython3",
   "version": "3.6.6"
  }
 },
 "nbformat": 4,
 "nbformat_minor": 2
}
