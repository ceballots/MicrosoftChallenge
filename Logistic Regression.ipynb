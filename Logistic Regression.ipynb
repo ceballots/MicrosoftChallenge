{
 "cells": [
  {
   "cell_type": "code",
   "execution_count": 1,
   "metadata": {},
   "outputs": [
    {
     "data": {
      "text/html": [
       "<script type=\"text/javascript\">window.PlotlyConfig = {MathJaxConfig: 'local'};</script><script type=\"text/javascript\">if (window.MathJax) {MathJax.Hub.Config({SVG: {font: \"STIX-Web\"}});}</script><script>requirejs.config({paths: { 'plotly': ['https://cdn.plot.ly/plotly-latest.min']},});if(!window._Plotly) {require(['plotly'],function(plotly) {window._Plotly=plotly;});}</script>"
      ],
      "text/vnd.plotly.v1+html": [
       "<script type=\"text/javascript\">window.PlotlyConfig = {MathJaxConfig: 'local'};</script><script type=\"text/javascript\">if (window.MathJax) {MathJax.Hub.Config({SVG: {font: \"STIX-Web\"}});}</script><script>requirejs.config({paths: { 'plotly': ['https://cdn.plot.ly/plotly-latest.min']},});if(!window._Plotly) {require(['plotly'],function(plotly) {window._Plotly=plotly;});}</script>"
      ]
     },
     "metadata": {},
     "output_type": "display_data"
    }
   ],
   "source": [
    "import pandas as pd\n",
    "import numpy as np\n",
    "from scipy.sparse import vstack, csr_matrix, save_npz, load_npz\n",
    "from sklearn.preprocessing import LabelEncoder, OneHotEncoder\n",
    "from sklearn.model_selection import StratifiedKFold, train_test_split\n",
    "from sklearn.metrics import roc_auc_score, accuracy_score\n",
    "from sklearn.linear_model import LogisticRegression\n",
    "import time\n",
    "import gc\n",
    "import pickle\n",
    "from plotly.offline import init_notebook_mode, iplot\n",
    "import plotly.graph_objs as go\n",
    "import plotly.io as pio\n",
    "from scipy.sparse import hstack\n",
    "init_notebook_mode(connected=True)\n",
    "gc.enable()\n",
    "\n",
    "continuous_columns = [  # All the columns which have a real continuous data\n",
    "    'Census_ProcessorCoreCount',\n",
    "    'Census_PrimaryDiskTotalCapacity',\n",
    "    'Census_SystemVolumeTotalCapacity',\n",
    "    'Census_TotalPhysicalRAM',\n",
    "    'Census_InternalPrimaryDiagonalDisplaySizeInInches',\n",
    "    'Census_InternalPrimaryDisplayResolutionHorizontal',\n",
    "    'Census_InternalPrimaryDisplayResolutionVertical',\n",
    "    'Census_InternalBatteryNumberOfCharges',\n",
    "    'Census_OSBuildNumber',\n",
    "    'Census_OSBuildRevision',\n",
    "    'Census_ThresholdOptIn',\n",
    "    'OsBuild'\n",
    "]\n",
    "\n",
    "bool_columns = [\n",
    "    'IsBeta',\n",
    "    'IsSxsPassiveMode',\n",
    "    'Census_IsPortableOperatingSystem',\n",
    "    'Census_IsSecureBootEnabled',\n",
    "    'Census_IsTouchEnabled',\n",
    "    'Census_IsPenCapable',\n",
    "    'HasTpm',\n",
    "    'Census_HasOpticalDiskDrive'\n",
    "]\n",
    "\n",
    "def save_obj(obj, name ):\n",
    "    with open('obj/'+ name + '.pkl', 'wb') as f:\n",
    "        pickle.dump(obj, f, pickle.HIGHEST_PROTOCOL)\n",
    "\n",
    "def load_obj(name ):\n",
    "    with open('obj/' + name + '.pkl', 'rb') as f:\n",
    "        return pickle.load(f)"
   ]
  },
  {
   "cell_type": "code",
   "execution_count": 2,
   "metadata": {},
   "outputs": [],
   "source": [
    "def OneHotEncoding(train,test,m = 10000):\n",
    "    ohe = OneHotEncoder(categories='auto', sparse=True, dtype='uint8').fit(pd.concat([train,test]))\n",
    "    train = vstack([ohe.transform(train[i*m:(i+1)*m]) for i in range(train.shape[0] // m + 1)])\n",
    "    test = vstack([ohe.transform(test[i*m:(i+1)*m])  for i in range(test.shape[0] // m +  1)])\n",
    "\n",
    "    print('Saving files...')\n",
    "    save_npz('train_log.npz', train, compressed=True)\n",
    "    save_npz('test_log.npz',  test,  compressed=True)\n",
    "    del ohe,train ,test"
   ]
  },
  {
   "cell_type": "code",
   "execution_count": 7,
   "metadata": {},
   "outputs": [],
   "source": [
    "def transform_to_category(train,test):\n",
    "    categorical_feature = []\n",
    "    col_number = -1\n",
    "    #Transform features to categories\n",
    "    for col_name in train.columns.tolist()[1:-1]:\n",
    "        col_number = col_number+1\n",
    "        if col_name in bool_columns:\n",
    "            continue\n",
    "        elif col_name in continuous_columns:\n",
    "            nan_val = train[col_name].astype('float32').mean()\n",
    "            train[col_name].fillna(nan_val, inplace=True)\n",
    "            test[col_name].fillna(nan_val, inplace=True)\n",
    "            del nan_val\n",
    "            continue\n",
    "        categorical_feature.append(col_number)\n",
    "        train[col_name] = train[col_name].astype('str')\n",
    "        test[col_name] = test[col_name].astype('str')\n",
    "\n",
    "        # Fit LabelEncoder\n",
    "        le = LabelEncoder().fit(\n",
    "            np.unique(train[col_name].unique().tolist() +\n",
    "                      test[col_name].unique().tolist()))\n",
    "\n",
    "        # At the end 0 will be used for dropped values\n",
    "        train[col_name] = le.transform(train[col_name]) + 1\n",
    "        test[col_name] = le.transform(test[col_name]) + 1\n",
    "        # Fit LabelEncoder again to make the all the category to have continues numbers\n",
    "        le = LabelEncoder().fit(\n",
    "            np.unique(train[col_name].unique().tolist() +\n",
    "                      test[col_name].unique().tolist()))\n",
    "        train[col_name] = le.transform(train[col_name])\n",
    "        test[col_name] = le.transform(test[col_name])\n",
    "\n",
    "        del le\n",
    "        gc.collect()\n",
    "        #Reduce memory consumption to accelerate training\n",
    "        mx = max(train[col_name].max(), test[col_name].max())\n",
    "        if mx < 2**7:\n",
    "            train[col_name] = train[col_name].astype('int8')\n",
    "            test[col_name] = test[col_name].astype('int8')\n",
    "        elif mx < 2**15:\n",
    "            train[col_name] = train[col_name].astype('int16')\n",
    "            test[col_name] = test[col_name].astype('int16')\n",
    "        else:\n",
    "            train[col_name] = train[col_name].astype('int32')\n",
    "            test[col_name] = test[col_name].astype('int32')\n",
    "        del col_name, mx\n",
    "\n",
    "    del col_number\n",
    "    gc.collect()\n",
    "\n",
    "    train_ids = train.index\n",
    "    test_ids = test.index\n",
    "    y_train = np.array(train['HasDetections'])\n",
    "    y_test = np.array(test['HasDetections'])\n",
    "\n",
    "\n",
    "    del test['HasDetections'], train['HasDetections']\n",
    "    gc.collect()\n",
    "    \n",
    "    return train,test,train_ids,test_ids,y_train,y_test"
   ]
  },
  {
   "cell_type": "code",
   "execution_count": 4,
   "metadata": {},
   "outputs": [],
   "source": [
    "def split_train_val(train_ids,y_train):\n",
    "    kati=[]\n",
    "    for i in range(3):\n",
    "        train_x, val_x, _, _ = train_test_split(train_ids,y_train,test_size=0.1, random_state=2019+i)\n",
    "        train_index = np.array(sorted(train_x))\n",
    "        val_index = np.array(sorted(val_x))\n",
    "        kati.append((train_index,val_index))\n",
    "        del train_x, val_x\n",
    "        gc.collect()    \n",
    "    return kati"
   ]
  },
  {
   "cell_type": "code",
   "execution_count": 27,
   "metadata": {},
   "outputs": [],
   "source": [
    "def train_classifier(train_val_set,sol='saga',reg=0.01,DK=False,FE=False,m = 10000):\n",
    "    LR_results_acc = []\n",
    "    LR_results_auc = []\n",
    "    counter=0\n",
    "    sec_iter= []\n",
    "    model = []\n",
    "    print('Starting Logistic Regression \\n')\n",
    "    for train_index, test_index in train_val_set:\n",
    "\n",
    "        t = time.perf_counter()\n",
    "        print('\\n Trial {}\\n'.format(counter+1))\n",
    "\n",
    "        train = load_npz('train_log.npz')\n",
    "\n",
    "        x_fit = vstack([train[train_index[i*m:(i+1)*m]] for i in range(train_index.shape[0] // m+1)])\n",
    "        x_val = vstack([train[test_index[i*m:(i+1)*m]] for i in range(test_index.shape[0] // m+1)])\n",
    "        if DK:\n",
    "            for col in features:\n",
    "                x_fit = hstack((x_fit,np.array(train_eng.iloc[train_index][col])[:,None]))\n",
    "                x_val = hstack((x_val,np.array(train_eng.iloc[test_index][col])[:,None]))\n",
    "        if FE:    \n",
    "            for col in features2:\n",
    "                x_fit = hstack((x_fit,np.array(train_ex.iloc[train_index][col])[:,None]))\n",
    "                x_val = hstack((x_val,np.array(train_ex.iloc[test_index][col])[:,None]))        \n",
    "        x_fit, x_val = csr_matrix(x_fit, dtype='float32'), csr_matrix(x_val, dtype='float32')\n",
    "        y_fit, y_val = y_train[train_index], y_train[test_index]\n",
    "\n",
    "        del train\n",
    "        gc.collect()\n",
    "        # Logistic Regression Classifier\n",
    "        clf = LogisticRegression(\n",
    "                    C = reg,\n",
    "                    max_iter = 200,\n",
    "                    tol = 0.00002,\n",
    "                    solver = sol,\n",
    "                    fit_intercept = True,\n",
    "                    penalty = 'l2',\n",
    "                    dual = False,\n",
    "                    verbose = 100)\n",
    "\n",
    "        clf.fit(x_fit, y_fit)\n",
    "        n_iter = clf.n_iter_\n",
    "        i=clf.predict_proba(x_val)[:,1]\n",
    "        j=clf.predict(x_val)\n",
    "        LR_results_auc.append(roc_auc_score(y_val,i))\n",
    "        LR_results_acc.append(accuracy_score(y_val,j)) \n",
    "        model.append(clf)\n",
    "        del x_fit, x_val, y_fit, y_val, train_index,clf\n",
    "        gc.collect()      \n",
    "        elapsed_time = time.perf_counter() - t\n",
    "        sec_iter.append(elapsed_time/n_iter)  \n",
    "        counter+=1\n",
    "        \n",
    "    return LR_results_acc,LR_results_auc,model,sec_iter "
   ]
  },
  {
   "cell_type": "code",
   "execution_count": 24,
   "metadata": {},
   "outputs": [],
   "source": [
    "def test_set_metrics(best_model,DK=False,FE=False):\n",
    "    test = load_npz('test_log.npz')\n",
    "    if DK:\n",
    "        for col in features:\n",
    "            test = hstack((test,np.array(test_eng[col])[:,None]))\n",
    "    if FE:    \n",
    "        for col in features2:\n",
    "            test = hstack((test,np.array(test_ex[col])[:,None]))    \n",
    "    test = csr_matrix(test, dtype='float32')\n",
    "    i=model[best_model].predict_proba(test)[:,1]\n",
    "    j=model[best_model].predict(test)\n",
    "    test_roc = roc_auc_score(y_test,i)\n",
    "    test_acc = accuracy_score(y_test,j) \n",
    "    return test_acc,test_roc"
   ]
  },
  {
   "cell_type": "markdown",
   "metadata": {},
   "source": [
    "## Logistic Regression with sag solver and C=0.05 raw data"
   ]
  },
  {
   "cell_type": "code",
   "execution_count": 15,
   "metadata": {},
   "outputs": [
    {
     "name": "stdout",
     "output_type": "stream",
     "text": [
      "Download Train and Test Data.\n",
      "\n"
     ]
    },
    {
     "name": "stderr",
     "output_type": "stream",
     "text": [
      "/home/john/anaconda3/lib/python3.7/site-packages/IPython/core/interactiveshell.py:3020: DtypeWarning:\n",
      "\n",
      "Columns (28) have mixed types. Specify dtype option on import or set low_memory=False.\n",
      "\n"
     ]
    },
    {
     "name": "stdout",
     "output_type": "stream",
     "text": [
      "Transforing features to categories\n",
      "One Hot Encoding the features\n",
      "Saving files...\n",
      "Creating train and validation sets\n",
      "Fitting Logistic regression\n",
      "Starting Logistic Regression \n",
      "\n",
      "\n",
      " Trial 1\n",
      "\n",
      "[Parallel(n_jobs=1)]: Using backend SequentialBackend with 1 concurrent workers.\n",
      "convergence after 42 epochs took 165 seconds\n",
      "[Parallel(n_jobs=1)]: Done   1 out of   1 | elapsed:  2.8min remaining:    0.0s\n",
      "[Parallel(n_jobs=1)]: Done   1 out of   1 | elapsed:  2.8min finished\n",
      "\n",
      " Trial 2\n",
      "\n",
      "[Parallel(n_jobs=1)]: Using backend SequentialBackend with 1 concurrent workers.\n",
      "convergence after 39 epochs took 155 seconds\n",
      "[Parallel(n_jobs=1)]: Done   1 out of   1 | elapsed:  2.6min remaining:    0.0s\n",
      "[Parallel(n_jobs=1)]: Done   1 out of   1 | elapsed:  2.6min finished\n",
      "\n",
      " Trial 3\n",
      "\n",
      "[Parallel(n_jobs=1)]: Using backend SequentialBackend with 1 concurrent workers.\n",
      "convergence after 33 epochs took 149 seconds\n",
      "[Parallel(n_jobs=1)]: Done   1 out of   1 | elapsed:  2.5min remaining:    0.0s\n",
      "[Parallel(n_jobs=1)]: Done   1 out of   1 | elapsed:  2.5min finished\n"
     ]
    }
   ],
   "source": [
    "print('Download Train and Test Data.\\n')\n",
    "#t = time.perf_counter()\n",
    "train = pd.read_csv('sample_train_with_no_missing_values.csv', low_memory=True)\n",
    "test  = pd.read_csv('sample_test_with_no_missing_values.csv', low_memory=True)\n",
    "del train['MachineIdentifier'], test['MachineIdentifier']\n",
    "gc.collect()\n",
    "\n",
    "print('Transforing features to categories')\n",
    "train,test,train_ids,test_ids,y_train,y_test = transform_to_category(train,test)\n",
    "print('One Hot Encoding the features')\n",
    "OneHotEncoding(train,test)\n",
    "print('Creating train and validation sets')\n",
    "train_val_sets = split_train_val(train_ids,y_train)\n",
    "LR_results_acc,LR_results_auc,model,sec_iter = train_classifier(train_val_sets)"
   ]
  },
  {
   "cell_type": "code",
   "execution_count": 26,
   "metadata": {},
   "outputs": [
    {
     "name": "stdout",
     "output_type": "stream",
     "text": [
      "Trial: 0\n",
      "Accuracy on val set using the raw data: 0.6579685972793874\n",
      "ROC AUC on val set using the raw data: 0.7206921209001405\n",
      "Average time per iteration: 7.024340467905166 \n",
      "\n",
      "Trial: 1\n",
      "Accuracy on val set using the raw data: 0.658318313471247\n",
      "ROC AUC on val set using the raw data: 0.7207356812653187\n",
      "Average time per iteration: 7.317196677231457 \n",
      "\n",
      "Trial: 2\n",
      "Accuracy on val set using the raw data: 0.6585469740582323\n",
      "ROC AUC on val set using the raw data: 0.7211792031425327\n",
      "Average time per iteration: 8.879978860333336 \n",
      "\n",
      "Mean accuracy is: 0.6582779616029555 with 0.023783906257902034 % standard deviation\n",
      "Execution time per iteration: 7.740505335156652\n",
      "Accuracy on test set : 0.621576059015531\n",
      "ROC AUC on test set using: 0.6763719678890392\n"
     ]
    }
   ],
   "source": [
    "best_model = np.argmax(LR_results_acc)\n",
    "test_acc,test_roc = test_set_metrics(best_model)\n",
    "for i in range(3):\n",
    "    print('Trial:',i)\n",
    "    print('Accuracy on val set using the raw data:', LR_results_acc[i])\n",
    "    print('ROC AUC on val set using the raw data:', LR_results_auc[i])\n",
    "    print('Average time per iteration:',sec_iter[i][0],'\\n')\n",
    "\n",
    "print('Mean accuracy is:',np.mean(LR_results_acc),'with',np.std(LR_results_acc)*100,'% standard deviation')\n",
    "print('Execution time per iteration:',np.mean(sec_iter))\n",
    "print('Accuracy on test set :', test_acc)\n",
    "print('ROC AUC on test set using:', test_roc)"
   ]
  },
  {
   "cell_type": "markdown",
   "metadata": {},
   "source": [
    "## Logistic Regression with saga solver and C=0.01 raw data"
   ]
  },
  {
   "cell_type": "code",
   "execution_count": null,
   "metadata": {},
   "outputs": [
    {
     "name": "stdout",
     "output_type": "stream",
     "text": [
      "Creating train and validation sets\n",
      "Starting Logistic Regression \n",
      "\n",
      "\n",
      " Trial 1\n",
      "\n",
      "[Parallel(n_jobs=1)]: Using backend SequentialBackend with 1 concurrent workers.\n",
      "max_iter reached after 997 seconds\n",
      "[Parallel(n_jobs=1)]: Done   1 out of   1 | elapsed: 16.6min remaining:    0.0s\n",
      "[Parallel(n_jobs=1)]: Done   1 out of   1 | elapsed: 16.6min finished\n"
     ]
    },
    {
     "name": "stderr",
     "output_type": "stream",
     "text": [
      "/home/john/anaconda3/lib/python3.7/site-packages/sklearn/linear_model/sag.py:334: ConvergenceWarning:\n",
      "\n",
      "The max_iter was reached which means the coef_ did not converge\n",
      "\n"
     ]
    },
    {
     "name": "stdout",
     "output_type": "stream",
     "text": [
      "\n",
      " Trial 2\n",
      "\n",
      "[Parallel(n_jobs=1)]: Using backend SequentialBackend with 1 concurrent workers.\n"
     ]
    }
   ],
   "source": [
    "print('Creating train and validation sets')\n",
    "train_val_sets = split_train_val(train_ids,y_train)\n",
    "LR_results_acc,LR_results_auc,model,sec_iter = train_classifier(train_val_sets,sol='saga',reg=0.01)"
   ]
  },
  {
   "cell_type": "code",
   "execution_count": 9,
   "metadata": {},
   "outputs": [
    {
     "name": "stdout",
     "output_type": "stream",
     "text": [
      "Trial: 0\n",
      "Accuracy on val set using the raw data: 0.6582600274392705\n",
      "ROC AUC on val set using the raw data: 0.7202387822011277\n",
      "Average time per iteration: 6.817834427360013 \n",
      "\n",
      "Trial: 1\n",
      "Accuracy on val set using the raw data: 0.6588204700544302\n",
      "ROC AUC on val set using the raw data: 0.7205736656205185\n",
      "Average time per iteration: 10.608940491140002 \n",
      "\n",
      "Trial: 2\n",
      "Accuracy on val set using the raw data: 0.6589056573319345\n",
      "ROC AUC on val set using the raw data: 0.720947164429651\n",
      "Average time per iteration: 9.615234210630005 \n",
      "\n",
      "Accuracy is: 0.6586620516085451 with 0.02863934270344954 % standard deviation\n",
      "Execution time per iteration: 9.01400304304334\n"
     ]
    }
   ],
   "source": [
    "best_model = np.argmax(LR_results_acc)\n",
    "test_acc,test_roc = test_set_metrics(best_model)\n",
    "for i in range(3):\n",
    "    print('Trial:',i)\n",
    "    print('Accuracy on val set using the raw data:', LR_results_acc[i])\n",
    "    print('ROC AUC on val set using the raw data:', LR_results_auc[i])\n",
    "    print('Average time per iteration:',sec_iter[i][0],'\\n')\n",
    "\n",
    "print('Mean accuracy is:',np.mean(LR_results_acc),'with',np.std(LR_results_acc)*100,'% standard deviation')\n",
    "print('Execution time per iteration:',np.mean(sec_iter))\n",
    "print('Accuracy on test set :', test_acc)\n",
    "print('ROC AUC on test set using:', test_roc)"
   ]
  },
  {
   "cell_type": "markdown",
   "metadata": {},
   "source": [
    "## Logistic Regression with sag solver and C=0.05 removed features"
   ]
  },
  {
   "cell_type": "code",
   "execution_count": null,
   "metadata": {},
   "outputs": [],
   "source": [
    "print('Download Train and Test Data with redudant features removed.\\n')\n",
    "train = pd.read_csv('sample_train_removed_features.csv', low_memory=True)\n",
    "test  = pd.read_csv('sample_test_removed_features.csv', low_memory=True)\n",
    "del train['MachineIdentifier'], test['MachineIdentifier']\n",
    "gc.collect()\n",
    "\n",
    "print('Transforing features to categories')\n",
    "train,test,train_ids,test_ids,y_train,y_test = transform_to_category(train,test)\n",
    "print('One Hot Encoding the features')\n",
    "OneHotEncoding(train,test)\n",
    "print('Creating train and validation sets')\n",
    "train_val_sets = split_train_val(train_ids,y_train)\n",
    "LR_results_acc,LR_results_auc,model,sec_iter = train_classifier(train_val_sets)"
   ]
  },
  {
   "cell_type": "code",
   "execution_count": 24,
   "metadata": {},
   "outputs": [
    {
     "name": "stdout",
     "output_type": "stream",
     "text": [
      "Trial: 0\n",
      "Accuracy on val set using the raw data: 0.6575605950555511\n",
      "ROC AUC on val set using the raw data: 0.7200691154419181\n",
      "Average time per iteration: 4.339123708429997 \n",
      "\n",
      "Trial: 1\n",
      "Accuracy on val set using the raw data: 0.6576188810875276\n",
      "ROC AUC on val set using the raw data: 0.7200922955813303\n",
      "Average time per iteration: 4.217396166159997 \n",
      "\n",
      "Trial: 2\n",
      "Accuracy on val set using the raw data: 0.6575650785964724\n",
      "ROC AUC on val set using the raw data: 0.7205884217466303\n",
      "Average time per iteration: 4.323433965169988 \n",
      "\n",
      "Accuracy is: 0.6575815182465171 with 0.00264828491806262 % standard deviation\n",
      "Execution time per iteration: 4.293317946586661\n"
     ]
    }
   ],
   "source": [
    "best_model = np.argmax(LR_results_acc)\n",
    "test_acc,test_roc = test_set_metrics(best_model)\n",
    "for i in range(3):\n",
    "    print('Trial:',i)\n",
    "    print('Accuracy on val set removing redundant features:', LR_results_acc[i])\n",
    "    print('ROC AUC on val set removing redundant features:', LR_results_auc[i])\n",
    "    print('Average time per iteration:',sec_iter[i][0],'\\n')\n",
    "\n",
    "print('Mean accuracy is:',np.mean(LR_results_acc),'with',np.std(LR_results_acc)*100,'% standard deviation')\n",
    "print('Execution time per iteration:',np.mean(sec_iter))\n",
    "print('Accuracy on test set :', test_acc)\n",
    "print('ROC AUC on test set using:', test_roc)"
   ]
  },
  {
   "cell_type": "markdown",
   "metadata": {},
   "source": [
    "## Logistic Regression with sag solver and C=0.05 with engineered features using domain knowledge"
   ]
  },
  {
   "cell_type": "code",
   "execution_count": null,
   "metadata": {},
   "outputs": [],
   "source": [
    "print('Download Train and Test Data with engineered features.\\n')\n",
    "train_eng = pd.read_csv('sample_train_engineered.csv', low_memory=True)\n",
    "test_eng  = pd.read_csv('sample_test_engineered.csv', low_memory=True)\n",
    "test_eng['Lag5'].fillna(0,inplace=True)\n",
    "gc.collect()\n",
    "\n",
    "#Normalizing engineered features\n",
    "features = list(train_eng.columns[-6:])\n",
    "for col in features:\n",
    "    mean = train_eng[col].mean()\n",
    "    std = train_eng[col].std()\n",
    "    train_eng[col] = (train_eng[col]-mean)/std\n",
    "    mean = test_eng[col].mean()\n",
    "    std = test_eng[col].std()\n",
    "    test_eng[col] = (test_eng[col]-mean)/std\n",
    "\n",
    "print('Transforing features to categories')\n",
    "train,test,train_ids,test_ids,y_train,y_test = transform_to_category(train,test)\n",
    "print('One Hot Encoding the features')\n",
    "OneHotEncoding(train,test)\n",
    "print('Creating train and validation sets')\n",
    "train_val_sets = split_train_val(train_ids,y_train)\n",
    "LR_results_acc,LR_results_auc,model,sec_iter = train_classifier(train_val_sets,DK=True)    "
   ]
  },
  {
   "cell_type": "code",
   "execution_count": 106,
   "metadata": {},
   "outputs": [
    {
     "name": "stdout",
     "output_type": "stream",
     "text": [
      "Trial: 0\n",
      "Accuracy on val set using the raw data: 0.6581793237026874\n",
      "ROC AUC on val set using the raw data: 0.7203169415767454\n",
      "Average time per iteration: 4.331263996214984 \n",
      "\n",
      "Trial: 1\n",
      "Accuracy on val set using the raw data: 0.6583721159623024\n",
      "ROC AUC on val set using the raw data: 0.7204620498257785\n",
      "Average time per iteration: 4.343054847965032 \n",
      "\n",
      "Trial: 2\n",
      "Accuracy on val set using the raw data: 0.6585380069763896\n",
      "ROC AUC on val set using the raw data: 0.7210493407614424\n",
      "Average time per iteration: 4.337539140820009 \n",
      "\n",
      "Accuracy is: 0.6583631488804599 with 0.01465690488609836 % standard deviation\n",
      "Execution time per iteration: 4.337285995000008\n"
     ]
    }
   ],
   "source": [
    "best_model = np.argmax(LR_results_acc)\n",
    "test_acc,test_roc = test_set_metrics(best_model,DK=True)\n",
    "for i in range(3):\n",
    "    print('Trial:',i)\n",
    "    print('Accuracy on val set using the DK features:', LR_results_acc[i])\n",
    "    print('ROC AUC on val set using the DK features:', LR_results_auc[i])\n",
    "    print('Average time per iteration:',sec_iter[i][0],'\\n')\n",
    "\n",
    "print('Mean accuracy is:',np.mean(LR_results_acc),'with',np.std(LR_results_acc)*100,'% standard deviation')\n",
    "print('Execution time per iteration:',np.mean(sec_iter))\n",
    "print('Accuracy on test set :', test_acc)\n",
    "print('ROC AUC on test set using:', test_roc)"
   ]
  },
  {
   "cell_type": "markdown",
   "metadata": {},
   "source": [
    "## Logistic Regression with sag solver and C=0.05 with BK&FE"
   ]
  },
  {
   "cell_type": "code",
   "execution_count": null,
   "metadata": {},
   "outputs": [],
   "source": [
    "print('Download Train and Test Data with engineered features.\\n')\n",
    "train_ex = pd.read_csv('train_extra_13.csv', low_memory=True)\n",
    "test_ex = pd.read_csv('test_extra_13.csv', low_memory=True)\n",
    "gc.collect()\n",
    "features2=list(train_ex.columns)[-7:-1]\n",
    "\n",
    "print('Transforing features to categories')\n",
    "train,test,train_ids,test_ids,y_train,y_test = transform_to_category(train,test)\n",
    "print('One Hot Encoding the features')\n",
    "OneHotEncoding(train,test)\n",
    "print('Creating train and validation sets')\n",
    "train_val_sets = split_train_val(train_ids,y_train)\n",
    "LR_results_acc,LR_results_auc,model,sec_iter = train_classifier(train_val_sets,DK=True, FE=True) "
   ]
  },
  {
   "cell_type": "code",
   "execution_count": 127,
   "metadata": {},
   "outputs": [
    {
     "name": "stdout",
     "output_type": "stream",
     "text": [
      "Trial: 0\n",
      "Accuracy on val set using the raw data: 0.6584842044853343\n",
      "ROC AUC on val set using the raw data: 0.7205153207970998\n",
      "Average time per iteration: 4.57077757356994 \n",
      "\n",
      "Trial: 1\n",
      "Accuracy on val set using the raw data: 0.6583138299303257\n",
      "ROC AUC on val set using the raw data: 0.7206272527852066\n",
      "Average time per iteration: 4.575619924209969 \n",
      "\n",
      "Trial: 2\n",
      "Accuracy on val set using the raw data: 0.6586814802858706\n",
      "ROC AUC on val set using the raw data: 0.7212364293113739\n",
      "Average time per iteration: 4.575491411099938 \n",
      "\n",
      "Accuracy is: 0.6584931715671769 with 0.015022650099243626 % standard deviation\n",
      "Execution time per iteration: 4.573962969626615\n"
     ]
    }
   ],
   "source": [
    "best_model = np.argmax(LR_results_acc)\n",
    "test_acc,test_roc = test_set_metrics(best_model,DK=True,FE=True)\n",
    "for i in range(3):\n",
    "    print('Trial:',i)\n",
    "    print('Accuracy on val set using the DK features:', LR_results_acc[i])\n",
    "    print('ROC AUC on val set using the DK features:', LR_results_auc[i])\n",
    "    print('Average time per iteration:',sec_iter[i][0],'\\n')\n",
    "\n",
    "print('Mean accuracy is:',np.mean(LR_results_acc),'with',np.std(LR_results_acc)*100,'% standard deviation')\n",
    "print('Execution time per iteration:',np.mean(sec_iter))\n",
    "print('Accuracy on test set :', test_acc)\n",
    "print('ROC AUC on test set using:', test_roc)"
   ]
  },
  {
   "cell_type": "code",
   "execution_count": 133,
   "metadata": {},
   "outputs": [],
   "source": [
    "#Just adding the results to csv so that members of the team can use them\n",
    "model = ['raw data','raw data 2','removed features','DK_engineered', 'DK&FE']\n",
    "convergence = ['True','True','True','False','False']\n",
    "DEV = [0.658542490517311, 0.6589056573319345, 0.6575785292192362,\n",
    "      0.6585380069763896,0.6586814802858706]\n",
    "test= [0.6215880151603916, 0.6217188810875276, 0.6213279690096726,\n",
    "      0.6199500233144825,0.6198364399383063]\n",
    "time_iter =[7.360175984256411, 9.615234210630005, 4.217396166159997,\n",
    "           4.337285995000008, 4.573962969626615]\n",
    "std = [0.02298734939586127,0.02863934270344954,0.00264828491806262,\n",
    "      0.01465690488609836,0.015022650099243626]\n",
    "solver = ['sag','saga','sag','sag','sag']\n",
    "reg_strength= [0.05,0.01, 0.05,0.05,0.05]\n",
    "\n",
    "my_results = pd.DataFrame(np.column_stack([model, solver, reg_strength,convergence,\n",
    "                                          DEV, std, test, time_iter]), \n",
    "                               columns=['Model', 'Solver', 'Regularization_L2',\n",
    "                                       'Convergence','DEV set','std %','test set',\n",
    "                                       'Time/Iteration'])\n",
    "export_csv = my_results.to_csv(r'LR_results.csv', index=None, header=True)"
   ]
  },
  {
   "cell_type": "markdown",
   "metadata": {},
   "source": [
    "# Logistic regression with frequency encoded features"
   ]
  },
  {
   "cell_type": "code",
   "execution_count": 11,
   "metadata": {},
   "outputs": [
    {
     "name": "stdout",
     "output_type": "stream",
     "text": [
      "Download Train and Test Data with redudant features removed.\n",
      "\n",
      "Starting Logistic regression\n",
      "[Parallel(n_jobs=1)]: Using backend SequentialBackend with 1 concurrent workers.\n",
      "convergence after 19 epochs took 55 seconds\n",
      "[Parallel(n_jobs=1)]: Done   1 out of   1 | elapsed:   54.8s remaining:    0.0s\n",
      "[Parallel(n_jobs=1)]: Done   1 out of   1 | elapsed:   54.8s finished\n",
      "Validation AUC score: 0.6725096665036613 \n",
      "\n",
      "Validation AUC score:  0.6723269602470521 \n",
      "\n",
      "Time elapsed to complete the whole process: 105.92784166699994\n"
     ]
    }
   ],
   "source": [
    "print('Download Train and Test Data with redudant features removed.\\n')\n",
    "t = time.perf_counter()\n",
    "train = pd.read_csv('freq_train.csv', low_memory=True)\n",
    "test  = pd.read_csv('freq_test.csv', low_memory=True)\n",
    "gc.collect()\n",
    "\n",
    "\n",
    "train_x, val_x, _, _ = train_test_split(train,train['HasDetections'],test_size=0.1, random_state=2019)\n",
    "y_fit = train_x['HasDetections']\n",
    "y_val = val_x['HasDetections']\n",
    "y_test = test['HasDetections']\n",
    "\n",
    "# Cleanup\n",
    "del train_x['HasDetections'], val_x['HasDetections'], test['HasDetections']\n",
    "gc.collect()\n",
    "\n",
    "print('Starting Logistic regression')\n",
    "# Logistic Regression Classifier\n",
    "clf = LogisticRegression(\n",
    "            C = 0.05,\n",
    "            max_iter = 100,\n",
    "            tol = 0.0001,\n",
    "            solver = 'sag',\n",
    "            fit_intercept = True,\n",
    "            penalty = 'l2',\n",
    "            dual = False,\n",
    "            verbose = 100)\n",
    "\n",
    "clf.fit(train_x, y_fit)\n",
    "\n",
    "oof_preds = clf.predict_proba(train_x)[:, 1]\n",
    "print('Validation AUC score:', roc_auc_score(y_fit, oof_preds),'\\n') \n",
    "# Validation Set\n",
    "oof_preds = clf.predict_proba(val_x)[:, 1]\n",
    "print('Validation AUC score: ', roc_auc_score(y_val, oof_preds),'\\n')        \n",
    "\n",
    "# Cleanup \n",
    "del train_x, y_fit, y_val, val_x\n",
    "gc.collect()\n",
    "\n",
    "# Test Set\n",
    "predictions = clf.predict_proba(test)[:, 1]\n",
    "elapsed_time = time.perf_counter() - t\n",
    "print('Time elapsed to complete the whole process:',elapsed_time)"
   ]
  },
  {
   "cell_type": "code",
   "execution_count": 12,
   "metadata": {},
   "outputs": [],
   "source": [
    "weights = clf.coef_\n",
    "save_obj(weights,'freq_weights')\n",
    "abs_weights = np.abs(weights)\n",
    "my_dict = {}\n",
    "features=list(train.columns)\n",
    "features.remove('HasDetections')\n",
    "for num,col in enumerate(features):\n",
    "    my_dict[col] = abs_weights[0,num]"
   ]
  },
  {
   "cell_type": "code",
   "execution_count": 13,
   "metadata": {},
   "outputs": [],
   "source": [
    "sorted_dict = sorted(my_dict.items(), key=lambda x: x[1], reverse=False)\n",
    "cols=[]\n",
    "weights = []\n",
    "for tup in sorted_dict:\n",
    "    cols.append(tup[0])\n",
    "    weights.append(tup[1])"
   ]
  },
  {
   "cell_type": "code",
   "execution_count": 15,
   "metadata": {},
   "outputs": [
    {
     "data": {
      "application/vnd.plotly.v1+json": {
       "config": {
        "linkText": "Export to plot.ly",
        "plotlyServerURL": "https://plot.ly",
        "showLink": false
       },
       "data": [
        {
         "marker": {
          "color": "rgb(49,130,189)"
         },
         "name": "train",
         "orientation": "h",
         "type": "bar",
         "uid": "9f172b3a-9a91-40dc-bc99-55602e03ff3f",
         "x": [
          0.0072865303537388145,
          0.010302346754547395,
          0.013352813163962198,
          0.03368448863339247,
          0.039992504879661495,
          0.04161199301655523,
          0.041737644476048434,
          0.04743678518768485,
          0.055945741689367785,
          0.06131449095443015,
          0.0724486306336194,
          0.08170347824310294,
          0.09211881083701841,
          0.09644486115700848,
          0.09909269632566291,
          0.11669993492505183,
          0.11895897735479415,
          0.11950361047660858,
          0.13709965884336953,
          0.145930482630734,
          0.14856338350564288,
          0.15135434770612505,
          0.17148029719435612,
          0.17758998695367825,
          0.17795272946953525,
          0.182140473478195,
          0.1866606568912191,
          0.1890336307177749,
          0.20358988882571147,
          0.20685114554965087,
          0.2135983865090177,
          0.21447698229723552,
          0.28750974092690723,
          0.3082174784934334,
          0.3150305847308994,
          0.3262079276784353,
          0.3283467427033003,
          0.33616794420028673,
          0.3481503747379949,
          0.34982414639390025,
          0.38015703925485106,
          0.3838281701615794,
          0.3924406177272522,
          0.40871863041903356,
          0.41260686695542026,
          0.4978734168456589,
          0.501349645067141,
          0.5392139175237389,
          0.5956367875353205,
          0.6072360510771768,
          0.6904543868512135,
          0.7454630138528198,
          0.9737714795829535,
          1.0421209276468513,
          1.0967970691417457,
          1.1014292822469371,
          1.175152758930863,
          1.2951650710077234,
          1.4426983653371892,
          2.196440704119805,
          2.319921258139583,
          2.351388572674919,
          2.5718991992952973,
          3.7841898589843805
         ],
         "y": [
          "Census_PowerPlatformRoleName",
          "OrganizationIdentifier",
          "GeoNameIdentifier",
          "LocaleEnglishNameIdentifier",
          "Census_InternalPrimaryDisplayResolutionVertical",
          "Census_InternalPrimaryDisplayResolutionHorizontal",
          "Census_ProcessorManufacturerIdentifier",
          "Census_PrimaryDiskTypeName",
          "Census_TotalPhysicalRAM",
          "Census_FlightRing",
          "Census_IsPenCapable",
          "IsSxsPassiveMode",
          "Wdft_RegionIdentifier",
          "Firewall",
          "OsBuildLab",
          "Census_ChassisTypeName",
          "RtpStateBitfield",
          "IeVerIdentifier",
          "Census_GenuineStateName",
          "Census_OSWUAutoUpdateOptionsName",
          "Census_InternalBatteryNumberOfCharges",
          "Census_ProcessorCoreCount",
          "Census_OSUILocaleIdentifier",
          "Census_OSBranch",
          "Census_InternalPrimaryDiagonalDisplaySizeInInches",
          "Census_MDC2FormFactor",
          "Census_ActivationChannel",
          "OsVer",
          "Census_HasOpticalDiskDrive",
          "Census_IsTouchEnabled",
          "AVProductsEnabled",
          "IsProtected",
          "Census_PrimaryDiskTotalCapacity",
          "Census_OSBuildNumber",
          "Processor",
          "AVProductStatesIdentifier",
          "Census_InternalBatteryType",
          "Wdft_IsGamer",
          "Census_FirmwareVersionIdentifier",
          "DefaultBrowsersIdentifier",
          "Census_IsAlwaysOnAlwaysConnectedCapable",
          "HasTpm",
          "AppVersion",
          "Census_OSEdition",
          "Census_FirmwareManufacturerIdentifier",
          "OsBuild",
          "CityIdentifier",
          "OsPlatformSubRelease",
          "OsSuite",
          "ProductName",
          "SkuEdition",
          "Census_SystemVolumeTotalCapacity",
          "Census_OEMNameIdentifier",
          "EngineVersion",
          "Census_OSVersion",
          "AVProductsInstalled",
          "Census_OSBuildRevision",
          "Census_OSInstallTypeName",
          "AvSigVersion",
          "Census_IsSecureBootEnabled",
          "Census_OEMModelIdentifier",
          "Census_ProcessorModelIdentifier",
          "SmartScreen",
          "CountryIdentifier"
         ]
        }
       ],
       "layout": {
        "bargap": 0.1,
        "bargroupgap": 0.1,
        "barmode": "group",
        "height": 600,
        "title": {
         "text": "Feature Importance"
        },
        "width": 800,
        "xaxis": {
         "domain": [
          0.25,
          1
         ],
         "title": {
          "font": {
           "color": "rgb(107, 107, 107)",
           "size": 16
          },
          "text": "Number of categories"
         }
        }
       }
      },
      "text/html": [
       "<div id=\"6d0367f5-6fdd-4383-90fa-9f6d17eeabf1\" style=\"height: 600px; width: 800px;\" class=\"plotly-graph-div\"></div><script type=\"text/javascript\">require([\"plotly\"], function(Plotly) { window.PLOTLYENV=window.PLOTLYENV || {};window.PLOTLYENV.BASE_URL=\"https://plot.ly\";\n",
       "if (document.getElementById(\"6d0367f5-6fdd-4383-90fa-9f6d17eeabf1\")) {\n",
       "    Plotly.newPlot(\"6d0367f5-6fdd-4383-90fa-9f6d17eeabf1\", [{\"marker\": {\"color\": \"rgb(49,130,189)\"}, \"name\": \"train\", \"orientation\": \"h\", \"x\": [0.0072865303537388145, 0.010302346754547395, 0.013352813163962198, 0.03368448863339247, 0.039992504879661495, 0.04161199301655523, 0.041737644476048434, 0.04743678518768485, 0.055945741689367785, 0.06131449095443015, 0.0724486306336194, 0.08170347824310294, 0.09211881083701841, 0.09644486115700848, 0.09909269632566291, 0.11669993492505183, 0.11895897735479415, 0.11950361047660858, 0.13709965884336953, 0.145930482630734, 0.14856338350564288, 0.15135434770612505, 0.17148029719435612, 0.17758998695367825, 0.17795272946953525, 0.182140473478195, 0.1866606568912191, 0.1890336307177749, 0.20358988882571147, 0.20685114554965087, 0.2135983865090177, 0.21447698229723552, 0.28750974092690723, 0.3082174784934334, 0.3150305847308994, 0.3262079276784353, 0.3283467427033003, 0.33616794420028673, 0.3481503747379949, 0.34982414639390025, 0.38015703925485106, 0.3838281701615794, 0.3924406177272522, 0.40871863041903356, 0.41260686695542026, 0.4978734168456589, 0.501349645067141, 0.5392139175237389, 0.5956367875353205, 0.6072360510771768, 0.6904543868512135, 0.7454630138528198, 0.9737714795829535, 1.0421209276468513, 1.0967970691417457, 1.1014292822469371, 1.175152758930863, 1.2951650710077234, 1.4426983653371892, 2.196440704119805, 2.319921258139583, 2.351388572674919, 2.5718991992952973, 3.7841898589843805], \"y\": [\"Census_PowerPlatformRoleName\", \"OrganizationIdentifier\", \"GeoNameIdentifier\", \"LocaleEnglishNameIdentifier\", \"Census_InternalPrimaryDisplayResolutionVertical\", \"Census_InternalPrimaryDisplayResolutionHorizontal\", \"Census_ProcessorManufacturerIdentifier\", \"Census_PrimaryDiskTypeName\", \"Census_TotalPhysicalRAM\", \"Census_FlightRing\", \"Census_IsPenCapable\", \"IsSxsPassiveMode\", \"Wdft_RegionIdentifier\", \"Firewall\", \"OsBuildLab\", \"Census_ChassisTypeName\", \"RtpStateBitfield\", \"IeVerIdentifier\", \"Census_GenuineStateName\", \"Census_OSWUAutoUpdateOptionsName\", \"Census_InternalBatteryNumberOfCharges\", \"Census_ProcessorCoreCount\", \"Census_OSUILocaleIdentifier\", \"Census_OSBranch\", \"Census_InternalPrimaryDiagonalDisplaySizeInInches\", \"Census_MDC2FormFactor\", \"Census_ActivationChannel\", \"OsVer\", \"Census_HasOpticalDiskDrive\", \"Census_IsTouchEnabled\", \"AVProductsEnabled\", \"IsProtected\", \"Census_PrimaryDiskTotalCapacity\", \"Census_OSBuildNumber\", \"Processor\", \"AVProductStatesIdentifier\", \"Census_InternalBatteryType\", \"Wdft_IsGamer\", \"Census_FirmwareVersionIdentifier\", \"DefaultBrowsersIdentifier\", \"Census_IsAlwaysOnAlwaysConnectedCapable\", \"HasTpm\", \"AppVersion\", \"Census_OSEdition\", \"Census_FirmwareManufacturerIdentifier\", \"OsBuild\", \"CityIdentifier\", \"OsPlatformSubRelease\", \"OsSuite\", \"ProductName\", \"SkuEdition\", \"Census_SystemVolumeTotalCapacity\", \"Census_OEMNameIdentifier\", \"EngineVersion\", \"Census_OSVersion\", \"AVProductsInstalled\", \"Census_OSBuildRevision\", \"Census_OSInstallTypeName\", \"AvSigVersion\", \"Census_IsSecureBootEnabled\", \"Census_OEMModelIdentifier\", \"Census_ProcessorModelIdentifier\", \"SmartScreen\", \"CountryIdentifier\"], \"type\": \"bar\", \"uid\": \"9f172b3a-9a91-40dc-bc99-55602e03ff3f\"}], {\"bargap\": 0.1, \"bargroupgap\": 0.1, \"barmode\": \"group\", \"height\": 600, \"title\": {\"text\": \"Feature Importance\"}, \"width\": 800, \"xaxis\": {\"domain\": [0.25, 1], \"title\": {\"font\": {\"color\": \"rgb(107, 107, 107)\", \"size\": 16}, \"text\": \"Number of categories\"}}}, {\"showLink\": false, \"linkText\": \"Export to plot.ly\", \"plotlyServerURL\": \"https://plot.ly\"}); \n",
       "}\n",
       "});</script>"
      ],
      "text/vnd.plotly.v1+html": [
       "<div id=\"6d0367f5-6fdd-4383-90fa-9f6d17eeabf1\" style=\"height: 600px; width: 800px;\" class=\"plotly-graph-div\"></div><script type=\"text/javascript\">require([\"plotly\"], function(Plotly) { window.PLOTLYENV=window.PLOTLYENV || {};window.PLOTLYENV.BASE_URL=\"https://plot.ly\";\n",
       "if (document.getElementById(\"6d0367f5-6fdd-4383-90fa-9f6d17eeabf1\")) {\n",
       "    Plotly.newPlot(\"6d0367f5-6fdd-4383-90fa-9f6d17eeabf1\", [{\"marker\": {\"color\": \"rgb(49,130,189)\"}, \"name\": \"train\", \"orientation\": \"h\", \"x\": [0.0072865303537388145, 0.010302346754547395, 0.013352813163962198, 0.03368448863339247, 0.039992504879661495, 0.04161199301655523, 0.041737644476048434, 0.04743678518768485, 0.055945741689367785, 0.06131449095443015, 0.0724486306336194, 0.08170347824310294, 0.09211881083701841, 0.09644486115700848, 0.09909269632566291, 0.11669993492505183, 0.11895897735479415, 0.11950361047660858, 0.13709965884336953, 0.145930482630734, 0.14856338350564288, 0.15135434770612505, 0.17148029719435612, 0.17758998695367825, 0.17795272946953525, 0.182140473478195, 0.1866606568912191, 0.1890336307177749, 0.20358988882571147, 0.20685114554965087, 0.2135983865090177, 0.21447698229723552, 0.28750974092690723, 0.3082174784934334, 0.3150305847308994, 0.3262079276784353, 0.3283467427033003, 0.33616794420028673, 0.3481503747379949, 0.34982414639390025, 0.38015703925485106, 0.3838281701615794, 0.3924406177272522, 0.40871863041903356, 0.41260686695542026, 0.4978734168456589, 0.501349645067141, 0.5392139175237389, 0.5956367875353205, 0.6072360510771768, 0.6904543868512135, 0.7454630138528198, 0.9737714795829535, 1.0421209276468513, 1.0967970691417457, 1.1014292822469371, 1.175152758930863, 1.2951650710077234, 1.4426983653371892, 2.196440704119805, 2.319921258139583, 2.351388572674919, 2.5718991992952973, 3.7841898589843805], \"y\": [\"Census_PowerPlatformRoleName\", \"OrganizationIdentifier\", \"GeoNameIdentifier\", \"LocaleEnglishNameIdentifier\", \"Census_InternalPrimaryDisplayResolutionVertical\", \"Census_InternalPrimaryDisplayResolutionHorizontal\", \"Census_ProcessorManufacturerIdentifier\", \"Census_PrimaryDiskTypeName\", \"Census_TotalPhysicalRAM\", \"Census_FlightRing\", \"Census_IsPenCapable\", \"IsSxsPassiveMode\", \"Wdft_RegionIdentifier\", \"Firewall\", \"OsBuildLab\", \"Census_ChassisTypeName\", \"RtpStateBitfield\", \"IeVerIdentifier\", \"Census_GenuineStateName\", \"Census_OSWUAutoUpdateOptionsName\", \"Census_InternalBatteryNumberOfCharges\", \"Census_ProcessorCoreCount\", \"Census_OSUILocaleIdentifier\", \"Census_OSBranch\", \"Census_InternalPrimaryDiagonalDisplaySizeInInches\", \"Census_MDC2FormFactor\", \"Census_ActivationChannel\", \"OsVer\", \"Census_HasOpticalDiskDrive\", \"Census_IsTouchEnabled\", \"AVProductsEnabled\", \"IsProtected\", \"Census_PrimaryDiskTotalCapacity\", \"Census_OSBuildNumber\", \"Processor\", \"AVProductStatesIdentifier\", \"Census_InternalBatteryType\", \"Wdft_IsGamer\", \"Census_FirmwareVersionIdentifier\", \"DefaultBrowsersIdentifier\", \"Census_IsAlwaysOnAlwaysConnectedCapable\", \"HasTpm\", \"AppVersion\", \"Census_OSEdition\", \"Census_FirmwareManufacturerIdentifier\", \"OsBuild\", \"CityIdentifier\", \"OsPlatformSubRelease\", \"OsSuite\", \"ProductName\", \"SkuEdition\", \"Census_SystemVolumeTotalCapacity\", \"Census_OEMNameIdentifier\", \"EngineVersion\", \"Census_OSVersion\", \"AVProductsInstalled\", \"Census_OSBuildRevision\", \"Census_OSInstallTypeName\", \"AvSigVersion\", \"Census_IsSecureBootEnabled\", \"Census_OEMModelIdentifier\", \"Census_ProcessorModelIdentifier\", \"SmartScreen\", \"CountryIdentifier\"], \"type\": \"bar\", \"uid\": \"9f172b3a-9a91-40dc-bc99-55602e03ff3f\"}], {\"bargap\": 0.1, \"bargroupgap\": 0.1, \"barmode\": \"group\", \"height\": 600, \"title\": {\"text\": \"Feature Importance\"}, \"width\": 800, \"xaxis\": {\"domain\": [0.25, 1], \"title\": {\"font\": {\"color\": \"rgb(107, 107, 107)\", \"size\": 16}, \"text\": \"Number of categories\"}}}, {\"showLink\": false, \"linkText\": \"Export to plot.ly\", \"plotlyServerURL\": \"https://plot.ly\"}); \n",
       "}\n",
       "});</script>"
      ]
     },
     "metadata": {},
     "output_type": "display_data"
    }
   ],
   "source": [
    "trace = go.Bar(y=cols,\n",
    "               x=weights,\n",
    "               orientation='h', marker=dict(color='rgb(49,130,189)'), name='train')\n",
    "\n",
    "layout = go.Layout(\n",
    "    title='Feature Importance', height=600, width=800,\n",
    "    xaxis=dict(\n",
    "        title='Number of categories',\n",
    "        titlefont=dict(size=16, color='rgb(107, 107, 107)'),\n",
    "        domain=[0.25, 1]\n",
    "    ),\n",
    "    barmode='group',\n",
    "    bargap=0.1,\n",
    "    bargroupgap=0.1\n",
    ")\n",
    "\n",
    "fig = go.Figure(data=[trace], layout=layout)\n",
    "iplot(fig)"
   ]
  },
  {
   "cell_type": "code",
   "execution_count": null,
   "metadata": {},
   "outputs": [],
   "source": []
  }
 ],
 "metadata": {
  "kernelspec": {
   "display_name": "Python 3",
   "language": "python",
   "name": "python3"
  },
  "language_info": {
   "codemirror_mode": {
    "name": "ipython",
    "version": 3
   },
   "file_extension": ".py",
   "mimetype": "text/x-python",
   "name": "python",
   "nbconvert_exporter": "python",
   "pygments_lexer": "ipython3",
   "version": "3.7.1"
  }
 },
 "nbformat": 4,
 "nbformat_minor": 2
}
