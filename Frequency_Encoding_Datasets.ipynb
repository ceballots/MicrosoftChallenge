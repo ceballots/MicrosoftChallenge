{
 "cells": [
  {
   "cell_type": "code",
   "execution_count": 1,
   "metadata": {},
   "outputs": [],
   "source": [
    "import pandas as pd\n",
    "import numpy as np"
   ]
  },
  {
   "cell_type": "code",
   "execution_count": 9,
   "metadata": {},
   "outputs": [],
   "source": [
    "# FREQUENCY ENCODING FOR A SINGLE SET\n",
    "def encode_FE(df,col):\n",
    "    vc = df[col].value_counts(dropna=False, normalize=True).to_dict()\n",
    "    nm = col+'_FE'\n",
    "    df[nm] = df[col].map(vc)\n",
    "    df[nm] = df[nm].astype('float32')\n",
    "\n",
    "# FREQUENCY ENCODER COMBINING TRAIN AND TEST SET\n",
    "def encode_FE2(df1, df2, col):\n",
    "    df = pd.concat([df1[col],df2[col]])\n",
    "    vc = df.value_counts(dropna=False, normalize=True).to_dict()\n",
    "    nm = col+'_FE'\n",
    "    df1[nm] = df1[col].map(vc)\n",
    "    df1[nm] = df1[nm].astype('float32')\n",
    "    df2[nm] = df2[col].map(vc)\n",
    "    df2[nm] = df2[nm].astype('float32')\n",
    "\n",
    "true_numerical = ['HasDetections']"
   ]
  },
  {
   "cell_type": "markdown",
   "metadata": {},
   "source": [
    "## Execute these to obtain a dataset with frequency modified features"
   ]
  },
  {
   "cell_type": "code",
   "execution_count": 9,
   "metadata": {},
   "outputs": [],
   "source": [
    "train = pd.read_csv('sample_train_removed_features.csv', low_memory=True)\n",
    "test = pd.read_csv('sample_test_removed_features.csv', low_memory=True)"
   ]
  },
  {
   "cell_type": "code",
   "execution_count": 10,
   "metadata": {},
   "outputs": [],
   "source": [
    "for col in train.columns:\n",
    "    if col not in true_numerical:\n",
    "        encode_FE2(train,test,col)"
   ]
  },
  {
   "cell_type": "code",
   "execution_count": 12,
   "metadata": {},
   "outputs": [],
   "source": [
    "export_csv = train.to_csv(r'freq_train.csv', index=None, header=True)\n",
    "export_csv = test.to_csv(r'freq_test.csv', index=None, header=True)"
   ]
  },
  {
   "cell_type": "markdown",
   "metadata": {},
   "source": [
    "### Execute these to obtain the dataset with the 13 engineered features"
   ]
  },
  {
   "cell_type": "code",
   "execution_count": 7,
   "metadata": {},
   "outputs": [],
   "source": [
    "train = pd.read_csv('sample_train_engineered.csv', low_memory=True)\n",
    "test = pd.read_csv('sample_test_engineered.csv', low_memory=True)"
   ]
  },
  {
   "cell_type": "code",
   "execution_count": 10,
   "metadata": {},
   "outputs": [],
   "source": [
    "FE = ['Census_OSVersion', 'Census_OSBuildRevision', 'Census_InternalBatteryNumberOfCharges', 'AvSigVersion', 'Lag1']\n",
    "for col in FE:\n",
    "    encode_FE(train, col)\n",
    "    encode_FE(test, col)\n",
    "    \n",
    "FE2 = ['CountryIdentifier', 'Census_InternalBatteryNumberOfCharges']\n",
    "for col in FE2:\n",
    "    encode_FE2(train, test, col)"
   ]
  },
  {
   "cell_type": "code",
   "execution_count": 12,
   "metadata": {},
   "outputs": [],
   "source": [
    "y_train = train['HasDetections']\n",
    "y_test = test['HasDetections']\n",
    "del train['HasDetections'], test['HasDetections']\n",
    "train['HasDetections']=y_train\n",
    "test['HasDetections']=y_test"
   ]
  },
  {
   "cell_type": "code",
   "execution_count": null,
   "metadata": {},
   "outputs": [],
   "source": [
    "export_csv = train.to_csv(r'train_extra_13.csv', index=None, header=True)\n",
    "export_csv = test.to_csv(r'test_extra_13.csv', index=None, header=True)"
   ]
  },
  {
   "cell_type": "code",
   "execution_count": null,
   "metadata": {},
   "outputs": [],
   "source": []
  }
 ],
 "metadata": {
  "kernelspec": {
   "display_name": "Python 3",
   "language": "python",
   "name": "python3"
  },
  "language_info": {
   "codemirror_mode": {
    "name": "ipython",
    "version": 3
   },
   "file_extension": ".py",
   "mimetype": "text/x-python",
   "name": "python",
   "nbconvert_exporter": "python",
   "pygments_lexer": "ipython3",
   "version": "3.7.1"
  }
 },
 "nbformat": 4,
 "nbformat_minor": 2
}
