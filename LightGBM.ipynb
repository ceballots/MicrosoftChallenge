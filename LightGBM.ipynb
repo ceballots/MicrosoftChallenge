{
 "cells": [
  {
   "cell_type": "code",
   "execution_count": 1,
   "metadata": {},
   "outputs": [],
   "source": [
    "import numpy as np \n",
    "import pandas as pd \n",
    "from datetime import datetime as dt\n",
    "import matplotlib.pyplot as plt\n",
    "%matplotlib inline\n",
    "import lightgbm as lgb\n",
    "import time\n",
    "import datetime\n",
    "from tqdm import tqdm_notebook as tqdm\n",
    "from sklearn.preprocessing import LabelEncoder\n",
    "from sklearn.metrics import mean_squared_error, accuracy_score\n",
    "from sklearn import metrics\n",
    "import gc\n",
    "import dask.dataframe as dd\n",
    "import dask\n",
    "import timeit\n",
    "from sklearn.model_selection import train_test_split"
   ]
  },
  {
   "cell_type": "code",
   "execution_count": 2,
   "metadata": {},
   "outputs": [],
   "source": [
    "dtypes = {\n",
    "    'MachineIdentifier':                                    'object',\n",
    "    'ProductName':                                          'object',\n",
    "    'EngineVersion':                                        'object',\n",
    "    'AppVersion':                                           'object',\n",
    "    'AvSigVersion':                                         'object',\n",
    "    'IsBeta':                                               'int8',\n",
    "    'RtpStateBitfield':                                     'float16',\n",
    "    'IsSxsPassiveMode':                                     'int8',\n",
    "    'DefaultBrowsersIdentifier':                            'float32',  # was 'float16'\n",
    "    'AVProductStatesIdentifier':                            'float32',\n",
    "    'AVProductsInstalled':                                  'float16',\n",
    "    'AVProductsEnabled':                                    'float16',\n",
    "    'HasTpm':                                               'int8',\n",
    "    'CountryIdentifier':                                    'int16',\n",
    "    'CityIdentifier':                                       'float32',\n",
    "    'OrganizationIdentifier':                               'float16',\n",
    "    'GeoNameIdentifier':                                    'float16',\n",
    "    'LocaleEnglishNameIdentifier':                          'int16',  # was 'int8'\n",
    "    'Platform':                                             'object',\n",
    "    'Processor':                                            'object',\n",
    "    'OsVer':                                                'object',\n",
    "    'OsBuild':                                              'int16',\n",
    "    'OsSuite':                                              'int16',\n",
    "    'OsPlatformSubRelease':                                 'object',\n",
    "    'OsBuildLab':                                           'object',\n",
    "    'SkuEdition':                                           'object',\n",
    "    'IsProtected':                                          'float16',\n",
    "    'AutoSampleOptIn':                                      'int8',\n",
    "    'PuaMode':                                              'object',\n",
    "    'SMode':                                                'float16',\n",
    "    'IeVerIdentifier':                                      'float16',\n",
    "    'SmartScreen':                                          'object',\n",
    "    'Firewall':                                             'float16',\n",
    "    'UacLuaenable':                                         'float64', # was 'float32'\n",
    "    'Census_MDC2FormFactor':                                'object',\n",
    "    'Census_DeviceFamily':                                  'object',\n",
    "    'Census_OEMNameIdentifier':                             'float32', # was 'float16'\n",
    "    'Census_OEMModelIdentifier':                            'float32',\n",
    "    'Census_ProcessorCoreCount':                            'float16',\n",
    "    'Census_ProcessorManufacturerIdentifier':               'float16',\n",
    "    'Census_ProcessorModelIdentifier':                      'float32', # was 'float16'\n",
    "    'Census_ProcessorClass':                                'object',\n",
    "    'Census_PrimaryDiskTotalCapacity':                      'float64', # was 'float32'\n",
    "    'Census_PrimaryDiskTypeName':                           'object',\n",
    "    'Census_SystemVolumeTotalCapacity':                     'float64', # was 'float32'\n",
    "    'Census_HasOpticalDiskDrive':                           'int8',\n",
    "    'Census_TotalPhysicalRAM':                              'float32',\n",
    "    'Census_ChassisTypeName':                               'object',\n",
    "    'Census_InternalPrimaryDiagonalDisplaySizeInInches':    'float32', # was 'float16'\n",
    "    'Census_InternalPrimaryDisplayResolutionHorizontal':    'float32', # was 'float16'\n",
    "    'Census_InternalPrimaryDisplayResolutionVertical':      'float32', # was 'float16'\n",
    "    'Census_PowerPlatformRoleName':                         'object',\n",
    "    'Census_InternalBatteryType':                           'object',\n",
    "    'Census_InternalBatteryNumberOfCharges':                'float64', # was 'float32'\n",
    "    'Census_OSVersion':                                     'object',\n",
    "    'Census_OSArchitecture':                                'object',\n",
    "    'Census_OSBranch':                                      'object',\n",
    "    'Census_OSBuildNumber':                                 'int16',\n",
    "    'Census_OSBuildRevision':                               'int32',\n",
    "    'Census_OSEdition':                                     'object',\n",
    "    'Census_OSSkuName':                                     'object',\n",
    "    'Census_OSInstallTypeName':                             'object',\n",
    "    'Census_OSInstallLanguageIdentifier':                   'float16',\n",
    "    'Census_OSUILocaleIdentifier':                          'int16',\n",
    "    'Census_OSWUAutoUpdateOptionsName':                     'object',\n",
    "    'Census_IsPortableOperatingSystem':                     'int8',\n",
    "    'Census_GenuineStateName':                              'object',\n",
    "    'Census_ActivationChannel':                             'object',\n",
    "    'Census_IsFlightingInternal':                           'float16',\n",
    "    'Census_IsFlightsDisabled':                             'float16',\n",
    "    'Census_FlightRing':                                    'object',\n",
    "    'Census_ThresholdOptIn':                                'float16',\n",
    "    'Census_FirmwareManufacturerIdentifier':                'float16',\n",
    "    'Census_FirmwareVersionIdentifier':                     'float32',\n",
    "    'Census_IsSecureBootEnabled':                           'int8',\n",
    "    'Census_IsWIMBootEnabled':                              'float16',\n",
    "    'Census_IsVirtualDevice':                               'float16',\n",
    "    'Census_IsTouchEnabled':                                'int8',\n",
    "    'Census_IsPenCapable':                                  'int8',\n",
    "    'Census_IsAlwaysOnAlwaysConnectedCapable':              'float16',\n",
    "    'Wdft_IsGamer':                                         'float16',\n",
    "    'Wdft_RegionIdentifier':                                'float16',\n",
    "    'HasDetections':                                        'float32',\n",
    "}\n",
    "\n"
   ]
  },
  {
   "cell_type": "markdown",
   "metadata": {},
   "source": [
    "## Load Data"
   ]
  },
  {
   "cell_type": "code",
   "execution_count": 3,
   "metadata": {},
   "outputs": [
    {
     "name": "stdout",
     "output_type": "stream",
     "text": [
      "Wall time: 53.6 s\n"
     ]
    }
   ],
   "source": [
    "%%time\n",
    "df_train = dd.read_csv(\"train.csv\", blocksize= 256e6, dtype = dtypes)\n",
    "gc.collect()\n",
    "df_train = df_train.compute()\n",
    "df_train.drop(['index','Date','YearMonth'],axis=1,inplace=True) "
   ]
  },
  {
   "cell_type": "code",
   "execution_count": 4,
   "metadata": {},
   "outputs": [
    {
     "name": "stdout",
     "output_type": "stream",
     "text": [
      "Wall time: 8.04 s\n"
     ]
    }
   ],
   "source": [
    "%%time\n",
    "df_test = dd.read_csv(\"test_sampled.csv\", blocksize= 256e6, dtype = dtypes)\n",
    "gc.collect()\n",
    "df_test = df_test.compute()\n",
    "df_test.drop(['index','Date','YearMonth'],axis=1,inplace=True) \n",
    "y_test = df_test['HasDetections']"
   ]
  },
  {
   "cell_type": "code",
   "execution_count": 5,
   "metadata": {},
   "outputs": [],
   "source": [
    "y_tran = df_train['HasDetections']\n"
   ]
  },
  {
   "cell_type": "code",
   "execution_count": 6,
   "metadata": {},
   "outputs": [],
   "source": [
    "def encode_categorical(x_train, x_test, columns, sort=True):\n",
    "    \"\"\"\n",
    "    Function addapted from kaggle to encode categorical features for \n",
    "    lightgbm\n",
    "    \"\"\"\n",
    "    train_length = x_train.shape[0]\n",
    "    for col in tqdm(columns):\n",
    "        if col != 'MachineIdentifier' and col != 'HasDetections':\n",
    "            combined_data = pd.concat([x_train[col], x_test[col]])\n",
    "            combined_data, _ = pd.factorize(combined_data, sort=sort)\n",
    "            combined_data = pd.Series(combined_data).astype('int32')\n",
    "            x_train[col] = combined_data.iloc[:train_length].values\n",
    "            x_test[col] = combined_data.iloc[train_length:].values\n",
    "            x_train[col] = x_train[col].fillna(0)\n",
    "            x_test[col] = x_test[col].fillna(0)\n",
    "            del combined_data\n",
    "\n",
    "    return x_train, x_test"
   ]
  },
  {
   "cell_type": "code",
   "execution_count": 7,
   "metadata": {},
   "outputs": [
    {
     "data": {
      "application/vnd.jupyter.widget-view+json": {
       "model_id": "69708135396e43d1b31c2ff6b0ccabd6",
       "version_major": 2,
       "version_minor": 0
      },
      "text/plain": [
       "HBox(children=(IntProgress(value=0, max=30), HTML(value='')))"
      ]
     },
     "metadata": {},
     "output_type": "display_data"
    },
    {
     "name": "stdout",
     "output_type": "stream",
     "text": [
      "\n"
     ]
    }
   ],
   "source": [
    "g = df_train.columns.to_series().groupby(df_train.dtypes).groups\n",
    "types_ = {k.name: v for k, v in g.items()}\n",
    "object_columns = types_['object']\n",
    "\n",
    "df_train, df_test = encode_categorical(df_train, df_test, object_columns)"
   ]
  },
  {
   "cell_type": "code",
   "execution_count": 8,
   "metadata": {},
   "outputs": [],
   "source": [
    "def train_model(x, y, light_gbm_params,   \n",
    "                evaluation_metric='auc', \n",
    "                save_feature_importances=False,\n",
    "                identifier_columns=['MachineIdentifier'], exp_name = \"lightgbm\"):\n",
    "\n",
    "    \n",
    "    scores = []\n",
    "    classifier_models = []\n",
    "    feature_importance_df = pd.DataFrame()\n",
    "        \n",
    "    for i in range(3):\n",
    "        \n",
    "        x_train, x_validation, y_train, y_validation = train_test_split(x, y,\n",
    "                                                    stratify=y, \n",
    "                                                    test_size=0.15,\n",
    "                                                           random_state=2019*i)\n",
    "        \n",
    "        \n",
    "    \n",
    "        x_train.drop(identifier_columns, axis=1, inplace=True)\n",
    "        validation_identifier_data = x_validation[identifier_columns]\n",
    "        x_validation.drop(identifier_columns, axis=1, inplace=True)\n",
    "        x_train_columns = x_train.columns\n",
    "        \n",
    "        \n",
    "        trn_data = lgb.Dataset(x_train,label=y_train)\n",
    "        \n",
    "        del x_train\n",
    "        del y_train\n",
    "        \n",
    "        val_data = lgb.Dataset(x_validation,label=y_validation)\n",
    "        \n",
    "        print(\"Training on round {}\".format(i))\n",
    "        start = time.time()\n",
    "        classifier_model = lgb.train(light_gbm_params,\n",
    "                                     trn_data,\n",
    "                                      1000,\n",
    "                                     valid_sets=[trn_data, val_data],\n",
    "                                     verbose_eval=100,\n",
    "                                     early_stopping_rounds=100)\n",
    "        end = time.time()\n",
    "        print(\"Tme elapsed: {}\".format(end-start))\n",
    "\n",
    "        classifier_models.append(classifier_model)\n",
    "        print(\"Predicting on round {}\".format(i))\n",
    "        predictions = classifier_model.predict(x_validation, num_iteration=classifier_model.best_iteration)\n",
    "        \n",
    "        # Round to 0 o 1\n",
    "        predictions[predictions > 0.5] = 1\n",
    "        predictions[predictions <= 0.5] = 0\n",
    "        # Calculate accuracy\n",
    "        score = accuracy_score(y_validation, predictions)        \n",
    "        scores.append(score)\n",
    "        \n",
    "        best_model_index = 1\n",
    "        if score > max(scores) or i == 1:        \n",
    "            df_impt = pd.DataFrame()\n",
    "            df_impt[\"feature\"] = x_train_columns\n",
    "            df_impt[\"importance\"] = classifier_model.feature_importance(importance_type='gain')\n",
    "            df_impt[\"fold\"] = i + 1\n",
    "            feature_importance_df = pd.concat([feature_importance_df, df_impt], axis=0)\n",
    "            best_model_index = i\n",
    "        \n",
    "\n",
    "    cols = (feature_importance_df[[\"feature\", \"importance\"]]\n",
    "            .groupby(\"feature\")\n",
    "            .mean()\n",
    "            .sort_values(by=\"importance\", ascending=False)[:1000].index)\n",
    "\n",
    "    best_features = feature_importance_df.loc[feature_importance_df.feature.isin(cols)]\n",
    "\n",
    "\n",
    "    file_name = exp_name + '.csv'\n",
    "    best_features.sort_values(by=\"importance\", ascending=False) \\\n",
    "        .groupby(\"feature\") \\\n",
    "        .mean() \\\n",
    "        .sort_values(by=\"importance\", ascending=False) \\\n",
    "        .to_csv(file_name, index=True)\n",
    "    \n",
    "    best_features\n",
    "\n",
    "    return classifier_models, best_model_index, scores , best_features"
   ]
  },
  {
   "cell_type": "code",
   "execution_count": 9,
   "metadata": {},
   "outputs": [],
   "source": [
    "random_sample_percent = 5/8\n",
    "light_gbm_params = {   \n",
    "        'boosting_type': 'gbdt',\n",
    "        'objective': 'binary',\n",
    "        'metric': 'binary_logloss',\n",
    "        'nthread': 4,\n",
    "        'learning_rate': 0.05,\n",
    "        'max_depth': 5,\n",
    "        'num_leaves': 30,\n",
    "        'sub_feature': 0.9,\n",
    "        'sub_row':0.9,\n",
    "        'bagging_freq': 1,\n",
    "        'lambda_l1': 0.1,\n",
    "        'lambda_l2': 0.1,\n",
    "        'random_state': 2019\n",
    "        }"
   ]
  },
  {
   "cell_type": "code",
   "execution_count": 10,
   "metadata": {},
   "outputs": [],
   "source": [
    "df_test.drop(['MachineIdentifier','HasDetections'],axis=1,inplace=True) "
   ]
  },
  {
   "cell_type": "code",
   "execution_count": 11,
   "metadata": {},
   "outputs": [
    {
     "name": "stderr",
     "output_type": "stream",
     "text": [
      "C:\\Users\\jordi\\Anaconda3\\envs\\py3iaml\\lib\\site-packages\\pandas\\core\\frame.py:3697: SettingWithCopyWarning: \n",
      "A value is trying to be set on a copy of a slice from a DataFrame\n",
      "\n",
      "See the caveats in the documentation: http://pandas.pydata.org/pandas-docs/stable/indexing.html#indexing-view-versus-copy\n",
      "  errors=errors)\n"
     ]
    },
    {
     "name": "stdout",
     "output_type": "stream",
     "text": [
      "Training on round 0\n",
      "Training until validation scores don't improve for 100 rounds.\n",
      "[100]\ttraining's binary_logloss: 0.617149\tvalid_1's binary_logloss: 0.61752\n",
      "[200]\ttraining's binary_logloss: 0.610959\tvalid_1's binary_logloss: 0.61177\n",
      "[300]\ttraining's binary_logloss: 0.607447\tvalid_1's binary_logloss: 0.608698\n",
      "[400]\ttraining's binary_logloss: 0.604995\tvalid_1's binary_logloss: 0.606637\n",
      "[500]\ttraining's binary_logloss: 0.603023\tvalid_1's binary_logloss: 0.605048\n",
      "[600]\ttraining's binary_logloss: 0.601029\tvalid_1's binary_logloss: 0.603416\n",
      "[700]\ttraining's binary_logloss: 0.599438\tvalid_1's binary_logloss: 0.602204\n",
      "[800]\ttraining's binary_logloss: 0.598034\tvalid_1's binary_logloss: 0.601155\n",
      "[900]\ttraining's binary_logloss: 0.596758\tvalid_1's binary_logloss: 0.600247\n",
      "[1000]\ttraining's binary_logloss: 0.595683\tvalid_1's binary_logloss: 0.599497\n",
      "Did not meet early stopping. Best iteration is:\n",
      "[1000]\ttraining's binary_logloss: 0.595683\tvalid_1's binary_logloss: 0.599497\n",
      "Tme elapsed: 371.67037987709045\n",
      "Predicting on round 0\n"
     ]
    },
    {
     "name": "stderr",
     "output_type": "stream",
     "text": [
      "C:\\Users\\jordi\\Anaconda3\\envs\\py3iaml\\lib\\site-packages\\pandas\\core\\frame.py:3697: SettingWithCopyWarning: \n",
      "A value is trying to be set on a copy of a slice from a DataFrame\n",
      "\n",
      "See the caveats in the documentation: http://pandas.pydata.org/pandas-docs/stable/indexing.html#indexing-view-versus-copy\n",
      "  errors=errors)\n"
     ]
    },
    {
     "name": "stdout",
     "output_type": "stream",
     "text": [
      "Training on round 1\n",
      "Training until validation scores don't improve for 100 rounds.\n",
      "[100]\ttraining's binary_logloss: 0.617095\tvalid_1's binary_logloss: 0.617811\n",
      "[200]\ttraining's binary_logloss: 0.610552\tvalid_1's binary_logloss: 0.611763\n",
      "[300]\ttraining's binary_logloss: 0.607106\tvalid_1's binary_logloss: 0.608773\n",
      "[400]\ttraining's binary_logloss: 0.604603\tvalid_1's binary_logloss: 0.606617\n",
      "[500]\ttraining's binary_logloss: 0.602466\tvalid_1's binary_logloss: 0.604823\n",
      "[600]\ttraining's binary_logloss: 0.600791\tvalid_1's binary_logloss: 0.603504\n",
      "[700]\ttraining's binary_logloss: 0.599137\tvalid_1's binary_logloss: 0.602194\n",
      "[800]\ttraining's binary_logloss: 0.597781\tvalid_1's binary_logloss: 0.601196\n",
      "[900]\ttraining's binary_logloss: 0.596541\tvalid_1's binary_logloss: 0.600325\n",
      "[1000]\ttraining's binary_logloss: 0.595457\tvalid_1's binary_logloss: 0.599575\n",
      "Did not meet early stopping. Best iteration is:\n",
      "[1000]\ttraining's binary_logloss: 0.595457\tvalid_1's binary_logloss: 0.599575\n",
      "Tme elapsed: 339.4531226158142\n",
      "Predicting on round 1\n"
     ]
    },
    {
     "name": "stderr",
     "output_type": "stream",
     "text": [
      "C:\\Users\\jordi\\Anaconda3\\envs\\py3iaml\\lib\\site-packages\\pandas\\core\\frame.py:3697: SettingWithCopyWarning: \n",
      "A value is trying to be set on a copy of a slice from a DataFrame\n",
      "\n",
      "See the caveats in the documentation: http://pandas.pydata.org/pandas-docs/stable/indexing.html#indexing-view-versus-copy\n",
      "  errors=errors)\n"
     ]
    },
    {
     "name": "stdout",
     "output_type": "stream",
     "text": [
      "Training on round 2\n",
      "Training until validation scores don't improve for 100 rounds.\n",
      "[100]\ttraining's binary_logloss: 0.617063\tvalid_1's binary_logloss: 0.617856\n",
      "[200]\ttraining's binary_logloss: 0.610433\tvalid_1's binary_logloss: 0.611597\n",
      "[300]\ttraining's binary_logloss: 0.60712\tvalid_1's binary_logloss: 0.608692\n",
      "[400]\ttraining's binary_logloss: 0.604479\tvalid_1's binary_logloss: 0.606428\n",
      "[500]\ttraining's binary_logloss: 0.602502\tvalid_1's binary_logloss: 0.604849\n",
      "[600]\ttraining's binary_logloss: 0.600672\tvalid_1's binary_logloss: 0.60342\n",
      "[700]\ttraining's binary_logloss: 0.599048\tvalid_1's binary_logloss: 0.602166\n",
      "[800]\ttraining's binary_logloss: 0.597698\tvalid_1's binary_logloss: 0.601182\n",
      "[900]\ttraining's binary_logloss: 0.596492\tvalid_1's binary_logloss: 0.600365\n",
      "[1000]\ttraining's binary_logloss: 0.59536\tvalid_1's binary_logloss: 0.599609\n",
      "Did not meet early stopping. Best iteration is:\n",
      "[1000]\ttraining's binary_logloss: 0.59536\tvalid_1's binary_logloss: 0.599609\n",
      "Tme elapsed: 345.92213201522827\n",
      "Predicting on round 2\n"
     ]
    }
   ],
   "source": [
    "exp_name = \"lightgbm_01\"\n",
    "\n",
    "models,best_model_index, validation_score, feature_importance = train_model(df_train.drop('HasDetections', axis=1),\n",
    "                                      y_tran, light_gbm_params,                             \n",
    "                                      save_feature_importances=True, exp_name=exp_name)"
   ]
  },
  {
   "cell_type": "code",
   "execution_count": 12,
   "metadata": {},
   "outputs": [
    {
     "data": {
      "text/plain": [
       "0.6309396063427538"
      ]
     },
     "execution_count": 12,
     "metadata": {},
     "output_type": "execute_result"
    }
   ],
   "source": [
    "## predict\n",
    "\n",
    "y_pred=models[best_model_index].predict(df_test, axis=1)\n",
    "y_pred[y_pred > 0.5] = 1\n",
    "y_pred[y_pred <= 0.5] = 0\n",
    "accuracy_score(y_test, y_pred)"
   ]
  },
  {
   "cell_type": "code",
   "execution_count": 15,
   "metadata": {},
   "outputs": [],
   "source": [
    "# To plot feature importance\n",
    "def plot_save_importance(best_features,plot_name):\n",
    "    \"\"\"\n",
    "    Functio to plot and save importance of features\n",
    "    \"\"\"\n",
    "    plt.figure(figsize=(14, 25))\n",
    "    sns.barplot(x=\"importance\",\n",
    "                y=\"feature\",\n",
    "                data=best_features.sort_values(by=\"importance\",\n",
    "                                               ascending=False))\n",
    "    plt.title('Importance of features')\n",
    "    plt.tight_layout()\n",
    "    file_name = plot_name + -\".pdf\"\n",
    "    plt.savefig(file_name)"
   ]
  },
  {
   "cell_type": "code",
   "execution_count": null,
   "metadata": {},
   "outputs": [],
   "source": []
  }
 ],
 "metadata": {
  "kernelspec": {
   "display_name": "Python 3",
   "language": "python",
   "name": "python3"
  },
  "language_info": {
   "codemirror_mode": {
    "name": "ipython",
    "version": 3
   },
   "file_extension": ".py",
   "mimetype": "text/x-python",
   "name": "python",
   "nbconvert_exporter": "python",
   "pygments_lexer": "ipython3",
   "version": "3.6.6"
  }
 },
 "nbformat": 4,
 "nbformat_minor": 2
}
